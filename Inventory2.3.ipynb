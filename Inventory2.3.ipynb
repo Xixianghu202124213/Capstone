{
  "nbformat": 4,
  "nbformat_minor": 0,
  "metadata": {
    "colab": {
      "name": "“Inventory.ipynb”的副本",
      "provenance": [],
      "collapsed_sections": [],
      "include_colab_link": true
    },
    "kernelspec": {
      "name": "python3",
      "display_name": "Python 3"
    },
    "language_info": {
      "name": "python"
    },
    "gpuClass": "standard",
    "accelerator": "GPU"
  },
  "cells": [
    {
      "cell_type": "markdown",
      "metadata": {
        "id": "view-in-github",
        "colab_type": "text"
      },
      "source": [
        "<a href=\"https://colab.research.google.com/github/Xixianghu202124213/Capstone/blob/main/Inventory2.3.ipynb\" target=\"_parent\"><img src=\"https://colab.research.google.com/assets/colab-badge.svg\" alt=\"Open In Colab\"/></a>"
      ]
    },
    {
      "cell_type": "code",
      "source": [
        "from google.colab import drive\n",
        "drive.mount('/content/drive')"
      ],
      "metadata": {
        "colab": {
          "base_uri": "https://localhost:8080/"
        },
        "id": "c4CmrTmznPAi",
        "outputId": "5a2bcb89-4d98-47d5-d3e3-05b927b74bd2"
      },
      "execution_count": 5,
      "outputs": [
        {
          "output_type": "stream",
          "name": "stdout",
          "text": [
            "Mounted at /content/drive\n"
          ]
        }
      ]
    },
    {
      "cell_type": "code",
      "execution_count": 97,
      "metadata": {
        "id": "wmY57ceAV-Ib"
      },
      "outputs": [],
      "source": [
        "import torch\n",
        "import torch.nn as nn\n",
        "import torch.optim as optim\n",
        "import torch.nn.functional as F\n",
        "import torchvision.transforms as T\n",
        "from tqdm import tqdm\n",
        "import gym\n",
        "import math\n",
        "import random\n",
        "import numpy as np\n",
        "import pandas as pd\n",
        "import matplotlib\n",
        "import matplotlib.pyplot as plt\n",
        "import collections"
      ]
    },
    {
      "cell_type": "code",
      "source": [
        "def data_split(data, train_percentage = 0.8):\n",
        "    total = pd.to_datetime(data[\"ds\"].unique(),format=\"%d.%m.%Y\")\n",
        "    train = int(len(total) * train_percentage)\n",
        "    train_idx = total[0:train]\n",
        "    test_idx = total[train:train+90]\n",
        "    train_dataset = data.iloc[[date in train_idx for date in data['ds']],:]\n",
        "    test_dataset = data.iloc[[date in test_idx for date in data['ds']],:]\n",
        "    return train_dataset, test_dataset"
      ],
      "metadata": {
        "id": "fb1fm3tiWdKR"
      },
      "execution_count": 98,
      "outputs": []
    },
    {
      "cell_type": "code",
      "source": [
        "data=pd.read_csv(\"/content/drive/MyDrive/Data/historical_orders.csv\",sep = ';')\n",
        "data[\"DATE\"]=pd.to_datetime(data[\"DATE\"],format=\"%d.%m.%Y\")\n",
        "data = data.rename(columns={'DATE': 'ds', 'QUANTITY': 'y','MATERIAL_NUMBER' :'product', 'PLANT': 'plant'})\n",
        "data = data[data['ds'] < '2020-01-01']\n",
        "\n",
        "#splite the test and train\n",
        "train, test = data_split(data)\n",
        "train, test = data_split(data)\n",
        "pivot_train = pd.pivot_table(train, values='y', index=['product', 'plant'], columns=['ds'], aggfunc=np.mean)\n",
        "train_series = pivot_train.iloc[8,:]\n",
        "pivot_test = pd.pivot_table(test, values='y', index=['product', 'plant'], columns=['ds'], aggfunc=np.mean)\n",
        "test_series = pivot_test.iloc[8,:]\n"
      ],
      "metadata": {
        "id": "JwendsmyWdz7"
      },
      "execution_count": 99,
      "outputs": []
    },
    {
      "cell_type": "code",
      "source": [
        "pivot_test"
      ],
      "metadata": {
        "colab": {
          "base_uri": "https://localhost:8080/",
          "height": 599
        },
        "id": "mSctdvquvthG",
        "outputId": "d4612756-00c8-4ce9-b256-f66b69f56f7a"
      },
      "execution_count": 100,
      "outputs": [
        {
          "output_type": "execute_result",
          "data": {
            "text/plain": [
              "ds             2019-01-01  2019-01-02  2019-01-03  2019-01-04  2019-01-05  \\\n",
              "product plant                                                               \n",
              "A       X1              0         188         323         408           0   \n",
              "        X2              0         634         549         336           0   \n",
              "B       X1              0        3256        2117        1988           0   \n",
              "        X2              0        3356        3572        4272           0   \n",
              "C       X1              0          15           0          12           0   \n",
              "D       X1              0         865         564         800           0   \n",
              "        X2              0        6914       10349        9115           0   \n",
              "E       X1              0        2028        4240        1863           0   \n",
              "        X2              0        9933       11858       16904           0   \n",
              "F       X1              0           0           0           0           0   \n",
              "        X2              0           0           0           0           0   \n",
              "G       X2              0           0           0           0           0   \n",
              "H       X2              0         202          55           6          18   \n",
              "\n",
              "ds             2019-01-06  2019-01-07  2019-01-08  2019-01-09  2019-01-10  \\\n",
              "product plant                                                               \n",
              "A       X1              0           0         126         336         551   \n",
              "        X2              0        3243         365        1269         276   \n",
              "B       X1              0        1110        2002        1865         837   \n",
              "        X2              0        2598        3317        3897        3790   \n",
              "C       X1              0           1           0           2           0   \n",
              "D       X1              0          84         289         337         994   \n",
              "        X2              0       12858        2793        5692        4685   \n",
              "E       X1              0         440        1583        1666        1885   \n",
              "        X2             48       25365        5820       13085        6455   \n",
              "F       X1              0           0           0           0           0   \n",
              "        X2              0           0           0           0           0   \n",
              "G       X2              0           0           0           0         624   \n",
              "H       X2              0         258          15           2          13   \n",
              "\n",
              "ds             ...  2019-03-22  2019-03-23  2019-03-24  2019-03-25  \\\n",
              "product plant  ...                                                   \n",
              "A       X1     ...         306           0           0          98   \n",
              "        X2     ...         676           0           0        2020   \n",
              "B       X1     ...         617           0           0        2310   \n",
              "        X2     ...        4023           0           0        4137   \n",
              "C       X1     ...           0           0           0          19   \n",
              "D       X1     ...         430           0           0         107   \n",
              "        X2     ...       12253          48          48        2457   \n",
              "E       X1     ...        1537           0           0         739   \n",
              "        X2     ...        8965          48         384        6775   \n",
              "F       X1     ...           0           0           0          87   \n",
              "        X2     ...           0           0         232          25   \n",
              "G       X2     ...           0           0           0           0   \n",
              "H       X2     ...           0           0          90           0   \n",
              "\n",
              "ds             2019-03-26  2019-03-27  2019-03-28  2019-03-29  2019-03-30  \\\n",
              "product plant                                                               \n",
              "A       X1            245         622         155         386           0   \n",
              "        X2            519         348        2290         520           0   \n",
              "B       X1           2918        1835        1313         789           0   \n",
              "        X2           3008        2799        3327        1454           0   \n",
              "C       X1              0          30           0           3           0   \n",
              "D       X1            463        1341         845        1465           0   \n",
              "        X2           3571       43417        7987        4575           0   \n",
              "E       X1           4062        5094        2539        2072           0   \n",
              "        X2           8013       21153       20746       10070         364   \n",
              "F       X1              0         289         104          35           0   \n",
              "        X2             65         422        1159         290           7   \n",
              "G       X2              0         193         720          48           0   \n",
              "H       X2              0         137           0           1           0   \n",
              "\n",
              "ds             2019-03-31  \n",
              "product plant              \n",
              "A       X1              0  \n",
              "        X2              0  \n",
              "B       X1              0  \n",
              "        X2              0  \n",
              "C       X1              0  \n",
              "D       X1              0  \n",
              "        X2              0  \n",
              "E       X1              0  \n",
              "        X2            480  \n",
              "F       X1              0  \n",
              "        X2              0  \n",
              "G       X2              0  \n",
              "H       X2              0  \n",
              "\n",
              "[13 rows x 90 columns]"
            ],
            "text/html": [
              "\n",
              "  <div id=\"df-74b869f6-20cb-48d1-b153-980c0cf75e52\">\n",
              "    <div class=\"colab-df-container\">\n",
              "      <div>\n",
              "<style scoped>\n",
              "    .dataframe tbody tr th:only-of-type {\n",
              "        vertical-align: middle;\n",
              "    }\n",
              "\n",
              "    .dataframe tbody tr th {\n",
              "        vertical-align: top;\n",
              "    }\n",
              "\n",
              "    .dataframe thead th {\n",
              "        text-align: right;\n",
              "    }\n",
              "</style>\n",
              "<table border=\"1\" class=\"dataframe\">\n",
              "  <thead>\n",
              "    <tr style=\"text-align: right;\">\n",
              "      <th></th>\n",
              "      <th>ds</th>\n",
              "      <th>2019-01-01</th>\n",
              "      <th>2019-01-02</th>\n",
              "      <th>2019-01-03</th>\n",
              "      <th>2019-01-04</th>\n",
              "      <th>2019-01-05</th>\n",
              "      <th>2019-01-06</th>\n",
              "      <th>2019-01-07</th>\n",
              "      <th>2019-01-08</th>\n",
              "      <th>2019-01-09</th>\n",
              "      <th>2019-01-10</th>\n",
              "      <th>...</th>\n",
              "      <th>2019-03-22</th>\n",
              "      <th>2019-03-23</th>\n",
              "      <th>2019-03-24</th>\n",
              "      <th>2019-03-25</th>\n",
              "      <th>2019-03-26</th>\n",
              "      <th>2019-03-27</th>\n",
              "      <th>2019-03-28</th>\n",
              "      <th>2019-03-29</th>\n",
              "      <th>2019-03-30</th>\n",
              "      <th>2019-03-31</th>\n",
              "    </tr>\n",
              "    <tr>\n",
              "      <th>product</th>\n",
              "      <th>plant</th>\n",
              "      <th></th>\n",
              "      <th></th>\n",
              "      <th></th>\n",
              "      <th></th>\n",
              "      <th></th>\n",
              "      <th></th>\n",
              "      <th></th>\n",
              "      <th></th>\n",
              "      <th></th>\n",
              "      <th></th>\n",
              "      <th></th>\n",
              "      <th></th>\n",
              "      <th></th>\n",
              "      <th></th>\n",
              "      <th></th>\n",
              "      <th></th>\n",
              "      <th></th>\n",
              "      <th></th>\n",
              "      <th></th>\n",
              "      <th></th>\n",
              "      <th></th>\n",
              "    </tr>\n",
              "  </thead>\n",
              "  <tbody>\n",
              "    <tr>\n",
              "      <th rowspan=\"2\" valign=\"top\">A</th>\n",
              "      <th>X1</th>\n",
              "      <td>0</td>\n",
              "      <td>188</td>\n",
              "      <td>323</td>\n",
              "      <td>408</td>\n",
              "      <td>0</td>\n",
              "      <td>0</td>\n",
              "      <td>0</td>\n",
              "      <td>126</td>\n",
              "      <td>336</td>\n",
              "      <td>551</td>\n",
              "      <td>...</td>\n",
              "      <td>306</td>\n",
              "      <td>0</td>\n",
              "      <td>0</td>\n",
              "      <td>98</td>\n",
              "      <td>245</td>\n",
              "      <td>622</td>\n",
              "      <td>155</td>\n",
              "      <td>386</td>\n",
              "      <td>0</td>\n",
              "      <td>0</td>\n",
              "    </tr>\n",
              "    <tr>\n",
              "      <th>X2</th>\n",
              "      <td>0</td>\n",
              "      <td>634</td>\n",
              "      <td>549</td>\n",
              "      <td>336</td>\n",
              "      <td>0</td>\n",
              "      <td>0</td>\n",
              "      <td>3243</td>\n",
              "      <td>365</td>\n",
              "      <td>1269</td>\n",
              "      <td>276</td>\n",
              "      <td>...</td>\n",
              "      <td>676</td>\n",
              "      <td>0</td>\n",
              "      <td>0</td>\n",
              "      <td>2020</td>\n",
              "      <td>519</td>\n",
              "      <td>348</td>\n",
              "      <td>2290</td>\n",
              "      <td>520</td>\n",
              "      <td>0</td>\n",
              "      <td>0</td>\n",
              "    </tr>\n",
              "    <tr>\n",
              "      <th rowspan=\"2\" valign=\"top\">B</th>\n",
              "      <th>X1</th>\n",
              "      <td>0</td>\n",
              "      <td>3256</td>\n",
              "      <td>2117</td>\n",
              "      <td>1988</td>\n",
              "      <td>0</td>\n",
              "      <td>0</td>\n",
              "      <td>1110</td>\n",
              "      <td>2002</td>\n",
              "      <td>1865</td>\n",
              "      <td>837</td>\n",
              "      <td>...</td>\n",
              "      <td>617</td>\n",
              "      <td>0</td>\n",
              "      <td>0</td>\n",
              "      <td>2310</td>\n",
              "      <td>2918</td>\n",
              "      <td>1835</td>\n",
              "      <td>1313</td>\n",
              "      <td>789</td>\n",
              "      <td>0</td>\n",
              "      <td>0</td>\n",
              "    </tr>\n",
              "    <tr>\n",
              "      <th>X2</th>\n",
              "      <td>0</td>\n",
              "      <td>3356</td>\n",
              "      <td>3572</td>\n",
              "      <td>4272</td>\n",
              "      <td>0</td>\n",
              "      <td>0</td>\n",
              "      <td>2598</td>\n",
              "      <td>3317</td>\n",
              "      <td>3897</td>\n",
              "      <td>3790</td>\n",
              "      <td>...</td>\n",
              "      <td>4023</td>\n",
              "      <td>0</td>\n",
              "      <td>0</td>\n",
              "      <td>4137</td>\n",
              "      <td>3008</td>\n",
              "      <td>2799</td>\n",
              "      <td>3327</td>\n",
              "      <td>1454</td>\n",
              "      <td>0</td>\n",
              "      <td>0</td>\n",
              "    </tr>\n",
              "    <tr>\n",
              "      <th>C</th>\n",
              "      <th>X1</th>\n",
              "      <td>0</td>\n",
              "      <td>15</td>\n",
              "      <td>0</td>\n",
              "      <td>12</td>\n",
              "      <td>0</td>\n",
              "      <td>0</td>\n",
              "      <td>1</td>\n",
              "      <td>0</td>\n",
              "      <td>2</td>\n",
              "      <td>0</td>\n",
              "      <td>...</td>\n",
              "      <td>0</td>\n",
              "      <td>0</td>\n",
              "      <td>0</td>\n",
              "      <td>19</td>\n",
              "      <td>0</td>\n",
              "      <td>30</td>\n",
              "      <td>0</td>\n",
              "      <td>3</td>\n",
              "      <td>0</td>\n",
              "      <td>0</td>\n",
              "    </tr>\n",
              "    <tr>\n",
              "      <th rowspan=\"2\" valign=\"top\">D</th>\n",
              "      <th>X1</th>\n",
              "      <td>0</td>\n",
              "      <td>865</td>\n",
              "      <td>564</td>\n",
              "      <td>800</td>\n",
              "      <td>0</td>\n",
              "      <td>0</td>\n",
              "      <td>84</td>\n",
              "      <td>289</td>\n",
              "      <td>337</td>\n",
              "      <td>994</td>\n",
              "      <td>...</td>\n",
              "      <td>430</td>\n",
              "      <td>0</td>\n",
              "      <td>0</td>\n",
              "      <td>107</td>\n",
              "      <td>463</td>\n",
              "      <td>1341</td>\n",
              "      <td>845</td>\n",
              "      <td>1465</td>\n",
              "      <td>0</td>\n",
              "      <td>0</td>\n",
              "    </tr>\n",
              "    <tr>\n",
              "      <th>X2</th>\n",
              "      <td>0</td>\n",
              "      <td>6914</td>\n",
              "      <td>10349</td>\n",
              "      <td>9115</td>\n",
              "      <td>0</td>\n",
              "      <td>0</td>\n",
              "      <td>12858</td>\n",
              "      <td>2793</td>\n",
              "      <td>5692</td>\n",
              "      <td>4685</td>\n",
              "      <td>...</td>\n",
              "      <td>12253</td>\n",
              "      <td>48</td>\n",
              "      <td>48</td>\n",
              "      <td>2457</td>\n",
              "      <td>3571</td>\n",
              "      <td>43417</td>\n",
              "      <td>7987</td>\n",
              "      <td>4575</td>\n",
              "      <td>0</td>\n",
              "      <td>0</td>\n",
              "    </tr>\n",
              "    <tr>\n",
              "      <th rowspan=\"2\" valign=\"top\">E</th>\n",
              "      <th>X1</th>\n",
              "      <td>0</td>\n",
              "      <td>2028</td>\n",
              "      <td>4240</td>\n",
              "      <td>1863</td>\n",
              "      <td>0</td>\n",
              "      <td>0</td>\n",
              "      <td>440</td>\n",
              "      <td>1583</td>\n",
              "      <td>1666</td>\n",
              "      <td>1885</td>\n",
              "      <td>...</td>\n",
              "      <td>1537</td>\n",
              "      <td>0</td>\n",
              "      <td>0</td>\n",
              "      <td>739</td>\n",
              "      <td>4062</td>\n",
              "      <td>5094</td>\n",
              "      <td>2539</td>\n",
              "      <td>2072</td>\n",
              "      <td>0</td>\n",
              "      <td>0</td>\n",
              "    </tr>\n",
              "    <tr>\n",
              "      <th>X2</th>\n",
              "      <td>0</td>\n",
              "      <td>9933</td>\n",
              "      <td>11858</td>\n",
              "      <td>16904</td>\n",
              "      <td>0</td>\n",
              "      <td>48</td>\n",
              "      <td>25365</td>\n",
              "      <td>5820</td>\n",
              "      <td>13085</td>\n",
              "      <td>6455</td>\n",
              "      <td>...</td>\n",
              "      <td>8965</td>\n",
              "      <td>48</td>\n",
              "      <td>384</td>\n",
              "      <td>6775</td>\n",
              "      <td>8013</td>\n",
              "      <td>21153</td>\n",
              "      <td>20746</td>\n",
              "      <td>10070</td>\n",
              "      <td>364</td>\n",
              "      <td>480</td>\n",
              "    </tr>\n",
              "    <tr>\n",
              "      <th rowspan=\"2\" valign=\"top\">F</th>\n",
              "      <th>X1</th>\n",
              "      <td>0</td>\n",
              "      <td>0</td>\n",
              "      <td>0</td>\n",
              "      <td>0</td>\n",
              "      <td>0</td>\n",
              "      <td>0</td>\n",
              "      <td>0</td>\n",
              "      <td>0</td>\n",
              "      <td>0</td>\n",
              "      <td>0</td>\n",
              "      <td>...</td>\n",
              "      <td>0</td>\n",
              "      <td>0</td>\n",
              "      <td>0</td>\n",
              "      <td>87</td>\n",
              "      <td>0</td>\n",
              "      <td>289</td>\n",
              "      <td>104</td>\n",
              "      <td>35</td>\n",
              "      <td>0</td>\n",
              "      <td>0</td>\n",
              "    </tr>\n",
              "    <tr>\n",
              "      <th>X2</th>\n",
              "      <td>0</td>\n",
              "      <td>0</td>\n",
              "      <td>0</td>\n",
              "      <td>0</td>\n",
              "      <td>0</td>\n",
              "      <td>0</td>\n",
              "      <td>0</td>\n",
              "      <td>0</td>\n",
              "      <td>0</td>\n",
              "      <td>0</td>\n",
              "      <td>...</td>\n",
              "      <td>0</td>\n",
              "      <td>0</td>\n",
              "      <td>232</td>\n",
              "      <td>25</td>\n",
              "      <td>65</td>\n",
              "      <td>422</td>\n",
              "      <td>1159</td>\n",
              "      <td>290</td>\n",
              "      <td>7</td>\n",
              "      <td>0</td>\n",
              "    </tr>\n",
              "    <tr>\n",
              "      <th>G</th>\n",
              "      <th>X2</th>\n",
              "      <td>0</td>\n",
              "      <td>0</td>\n",
              "      <td>0</td>\n",
              "      <td>0</td>\n",
              "      <td>0</td>\n",
              "      <td>0</td>\n",
              "      <td>0</td>\n",
              "      <td>0</td>\n",
              "      <td>0</td>\n",
              "      <td>624</td>\n",
              "      <td>...</td>\n",
              "      <td>0</td>\n",
              "      <td>0</td>\n",
              "      <td>0</td>\n",
              "      <td>0</td>\n",
              "      <td>0</td>\n",
              "      <td>193</td>\n",
              "      <td>720</td>\n",
              "      <td>48</td>\n",
              "      <td>0</td>\n",
              "      <td>0</td>\n",
              "    </tr>\n",
              "    <tr>\n",
              "      <th>H</th>\n",
              "      <th>X2</th>\n",
              "      <td>0</td>\n",
              "      <td>202</td>\n",
              "      <td>55</td>\n",
              "      <td>6</td>\n",
              "      <td>18</td>\n",
              "      <td>0</td>\n",
              "      <td>258</td>\n",
              "      <td>15</td>\n",
              "      <td>2</td>\n",
              "      <td>13</td>\n",
              "      <td>...</td>\n",
              "      <td>0</td>\n",
              "      <td>0</td>\n",
              "      <td>90</td>\n",
              "      <td>0</td>\n",
              "      <td>0</td>\n",
              "      <td>137</td>\n",
              "      <td>0</td>\n",
              "      <td>1</td>\n",
              "      <td>0</td>\n",
              "      <td>0</td>\n",
              "    </tr>\n",
              "  </tbody>\n",
              "</table>\n",
              "<p>13 rows × 90 columns</p>\n",
              "</div>\n",
              "      <button class=\"colab-df-convert\" onclick=\"convertToInteractive('df-74b869f6-20cb-48d1-b153-980c0cf75e52')\"\n",
              "              title=\"Convert this dataframe to an interactive table.\"\n",
              "              style=\"display:none;\">\n",
              "        \n",
              "  <svg xmlns=\"http://www.w3.org/2000/svg\" height=\"24px\"viewBox=\"0 0 24 24\"\n",
              "       width=\"24px\">\n",
              "    <path d=\"M0 0h24v24H0V0z\" fill=\"none\"/>\n",
              "    <path d=\"M18.56 5.44l.94 2.06.94-2.06 2.06-.94-2.06-.94-.94-2.06-.94 2.06-2.06.94zm-11 1L8.5 8.5l.94-2.06 2.06-.94-2.06-.94L8.5 2.5l-.94 2.06-2.06.94zm10 10l.94 2.06.94-2.06 2.06-.94-2.06-.94-.94-2.06-.94 2.06-2.06.94z\"/><path d=\"M17.41 7.96l-1.37-1.37c-.4-.4-.92-.59-1.43-.59-.52 0-1.04.2-1.43.59L10.3 9.45l-7.72 7.72c-.78.78-.78 2.05 0 2.83L4 21.41c.39.39.9.59 1.41.59.51 0 1.02-.2 1.41-.59l7.78-7.78 2.81-2.81c.8-.78.8-2.07 0-2.86zM5.41 20L4 18.59l7.72-7.72 1.47 1.35L5.41 20z\"/>\n",
              "  </svg>\n",
              "      </button>\n",
              "      \n",
              "  <style>\n",
              "    .colab-df-container {\n",
              "      display:flex;\n",
              "      flex-wrap:wrap;\n",
              "      gap: 12px;\n",
              "    }\n",
              "\n",
              "    .colab-df-convert {\n",
              "      background-color: #E8F0FE;\n",
              "      border: none;\n",
              "      border-radius: 50%;\n",
              "      cursor: pointer;\n",
              "      display: none;\n",
              "      fill: #1967D2;\n",
              "      height: 32px;\n",
              "      padding: 0 0 0 0;\n",
              "      width: 32px;\n",
              "    }\n",
              "\n",
              "    .colab-df-convert:hover {\n",
              "      background-color: #E2EBFA;\n",
              "      box-shadow: 0px 1px 2px rgba(60, 64, 67, 0.3), 0px 1px 3px 1px rgba(60, 64, 67, 0.15);\n",
              "      fill: #174EA6;\n",
              "    }\n",
              "\n",
              "    [theme=dark] .colab-df-convert {\n",
              "      background-color: #3B4455;\n",
              "      fill: #D2E3FC;\n",
              "    }\n",
              "\n",
              "    [theme=dark] .colab-df-convert:hover {\n",
              "      background-color: #434B5C;\n",
              "      box-shadow: 0px 1px 3px 1px rgba(0, 0, 0, 0.15);\n",
              "      filter: drop-shadow(0px 1px 2px rgba(0, 0, 0, 0.3));\n",
              "      fill: #FFFFFF;\n",
              "    }\n",
              "  </style>\n",
              "\n",
              "      <script>\n",
              "        const buttonEl =\n",
              "          document.querySelector('#df-74b869f6-20cb-48d1-b153-980c0cf75e52 button.colab-df-convert');\n",
              "        buttonEl.style.display =\n",
              "          google.colab.kernel.accessAllowed ? 'block' : 'none';\n",
              "\n",
              "        async function convertToInteractive(key) {\n",
              "          const element = document.querySelector('#df-74b869f6-20cb-48d1-b153-980c0cf75e52');\n",
              "          const dataTable =\n",
              "            await google.colab.kernel.invokeFunction('convertToInteractive',\n",
              "                                                     [key], {});\n",
              "          if (!dataTable) return;\n",
              "\n",
              "          const docLinkHtml = 'Like what you see? Visit the ' +\n",
              "            '<a target=\"_blank\" href=https://colab.research.google.com/notebooks/data_table.ipynb>data table notebook</a>'\n",
              "            + ' to learn more about interactive tables.';\n",
              "          element.innerHTML = '';\n",
              "          dataTable['output_type'] = 'display_data';\n",
              "          await google.colab.output.renderOutput(dataTable, element);\n",
              "          const docLink = document.createElement('div');\n",
              "          docLink.innerHTML = docLinkHtml;\n",
              "          element.appendChild(docLink);\n",
              "        }\n",
              "      </script>\n",
              "    </div>\n",
              "  </div>\n",
              "  "
            ]
          },
          "metadata": {},
          "execution_count": 100
        }
      ]
    },
    {
      "cell_type": "markdown",
      "source": [
        "#Environment"
      ],
      "metadata": {
        "id": "5ll8YA2z0cmv"
      }
    },
    {
      "cell_type": "code",
      "source": [
        "class Inventory(gym.Env):\n",
        "  interval=0\n",
        "  forecast=[]\n",
        "  def __init__(self,leading_time,demand_list,space,emergency,holding_cost,trans_con=200,trans_unit=0.02,revenue=5):\n",
        "    global interval\n",
        "    global forecast\n",
        "    interval=leading_time\n",
        "    forecast=demand_list\n",
        "    self.inv=0\n",
        "    self.holding_cost=holding_cost\n",
        "    self.trans_con=trans_con\n",
        "    self.trans_unit=trans_unit\n",
        "    self.queue=[0]*interval\n",
        "    self.plan=forecast\n",
        "    self.action_space=space\n",
        "    self.revenue=revenue\n",
        "    self.emergency=emergency\n",
        "    self.penalty=0\n",
        "    \n",
        "  def add(self,amount):\n",
        "    self.inv=self.queue[0]\n",
        "    self.queue=self.queue[1:]+[amount]\n",
        "\n",
        "  def send(self,amount):\n",
        "    if self.inv>amount:\n",
        "      self.inv-=amount\n",
        "      return False #have enough stock\n",
        "    else:\n",
        "      self.inv=0\n",
        "      #print(\"the inventory is not enough\")\n",
        "      return True #bankrupt\n",
        "\n",
        "  def reset(self):\n",
        "    self.inv=0\n",
        "    self.queue=[0]*interval\n",
        "    self.plan=forecast\n",
        "    self.penalty=0\n",
        "    return np.array([self.inv,np.sum(self.queue)])\n",
        "\n",
        "  def select_action(self):\n",
        "    if np.random.random()<self.emergency:\n",
        "      demand=np.random.normal(np.mean(forecast),np.std(forecast))\n",
        "    else:\n",
        "      demand=self.plan[0]\n",
        "    return demand\n",
        "\n",
        "  def step(self,action):\n",
        "    new_state = None\n",
        "    state = np.array([self.inv, np.sum(self.queue)])\n",
        "    done = False\n",
        "    reward=0\n",
        "    if action not in self.action_space:\n",
        "      done=True\n",
        "      print(\"action is not allowed\")\n",
        "    else:\n",
        "      if action!=0:\n",
        "        reward=self.trans_con\n",
        "\n",
        "      self.add(action)\n",
        "      current=self.inv\n",
        "\n",
        "      demand=self.select_action()\n",
        "      bankrupt=self.send(demand)\n",
        "      self.plan=self.plan[1:]\n",
        "\n",
        "      if len(self.plan)==1:\n",
        "        done=True\n",
        "      if bankrupt:\n",
        "        reward+=self.trans_unit*action+self.holding_cost*self.inv+self.revenue*abs(demand-current)\n",
        "        self.penalty+=self.revenue*np.abs(demand-current)\n",
        "      else:\n",
        "        reward+=self.trans_unit*action+self.holding_cost*self.inv\n",
        "\n",
        "    new_state=np.array([self.inv,np.sum(self.queue)])\n",
        "    return state,-reward,new_state,done\n",
        "    "
      ],
      "metadata": {
        "id": "zp_zs3FGWfIV"
      },
      "execution_count": 101,
      "outputs": []
    },
    {
      "cell_type": "markdown",
      "source": [
        "#Benchmark & Goal"
      ],
      "metadata": {
        "id": "a0WdvZOL1Wvh"
      }
    },
    {
      "cell_type": "code",
      "source": [
        "def Benchmark(env):\n",
        "  goal_total_reward=0\n",
        "  goal_done=False\n",
        "  \n",
        "  penalty=0\n",
        "  \n",
        "  while not goal_done:\n",
        "    minus=np.abs(np.asarray(env.action_space)-np.mean(env.plan)).tolist()\n",
        "    id=minus.index(min(minus))\n",
        "    goal_action=env.action_space[id] \n",
        "    goal_state, goal_reward, goal_new_state,goal_done= env.step(goal_action)\n",
        "    goal_total_reward+=goal_reward\n",
        "    \n",
        "  penalty=env.penalty\n",
        "  goal_state=env.reset()\n",
        "  return goal_total_reward,penalty\n",
        "def Goal(env):\n",
        "  goal_reward=0\n",
        "  done=False\n",
        "  penalty=0\n",
        "  while not done:\n",
        "    try:\n",
        "      minus=np.abs(np.asarray(env.action_space)-env.plan[leading_time]).tolist()\n",
        "      id=minus.index((min(minus)))\n",
        "      action=env.action_space[id]\n",
        "    except:\n",
        "      action=0\n",
        "    \n",
        "    state, reward, new_state,done= env.step(action)\n",
        "    goal_reward+=reward\n",
        "  penalty=env.penalty\n",
        "  goal_state=env.reset()\n",
        "  return goal_reward,penalty"
      ],
      "metadata": {
        "id": "d4Q8dMr1ZQXQ"
      },
      "execution_count": 102,
      "outputs": []
    },
    {
      "cell_type": "markdown",
      "source": [
        "#Dueling DQN"
      ],
      "metadata": {
        "id": "SZeSmwKEW6Z3"
      }
    },
    {
      "cell_type": "code",
      "source": [
        "class ReplayBuffer:\n",
        "    def __init__(self, capacity):\n",
        "        self.buffer = collections.deque(maxlen=capacity) \n",
        "\n",
        "    def add(self, state, action, reward, next_state, done): \n",
        "        self.buffer.append((state, action, reward, next_state, done)) \n",
        "\n",
        "    def sample(self, batch_size): \n",
        "        transitions = random.sample(self.buffer, batch_size)\n",
        "        state, action, reward, next_state, done = zip(*transitions)\n",
        "        return np.array(state), action, reward, np.array(next_state), done \n",
        "\n",
        "    def size(self): \n",
        "        return len(self.buffer)\n",
        "\n",
        "def moving_average(a, window_size):\n",
        "    cumulative_sum = np.cumsum(np.insert(a, 0, 0)) \n",
        "    middle = (cumulative_sum[window_size:] - cumulative_sum[:-window_size]) / window_size\n",
        "    r = np.arange(1, window_size-1, 2)\n",
        "    begin = np.cumsum(a[:window_size-1])[::2] / r\n",
        "    end = (np.cumsum(a[:-window_size:-1])[::2] / r)[::-1]\n",
        "    return np.concatenate((begin, middle, end))\n",
        "\n",
        "def train_on_policy_agent(env, agent, num_episodes):\n",
        "    return_list = []\n",
        "\n",
        "    for i_episode in range(int(num_episodes)):\n",
        "        episode_return = 0\n",
        "        transition_dict = {'states': [], 'actions': [], 'next_states': [], 'rewards': [], 'dones': []}\n",
        "        state = env.reset()\n",
        "        done = False\n",
        "        while not done:\n",
        "            action = agent.take_action(state)\n",
        "            next_state, reward, done, _ = env.step(action)\n",
        "            transition_dict['states'].append(state)\n",
        "            transition_dict['actions'].append(action)\n",
        "            transition_dict['next_states'].append(next_state)\n",
        "            transition_dict['rewards'].append(reward)\n",
        "            transition_dict['dones'].append(done)\n",
        "            state = next_state\n",
        "            episode_return += reward\n",
        "        return_list.append(episode_return)\n",
        "        agent.update(transition_dict)\n",
        "\n",
        "    return return_list\n",
        "\n",
        "def train_off_policy_agent(env, agent, num_episodes, replay_buffer, minimal_size, batch_size):\n",
        "    return_list = []\n",
        " \n",
        "    for i_episode in range(int(num_episodes)):\n",
        "        episode_return = 0\n",
        "        state = env.reset()\n",
        "        done = False\n",
        "        while not done:\n",
        "            action = agent.take_action(state)\n",
        "            next_state, reward, done, _ = env.step(action)\n",
        "            replay_buffer.add(state, action, reward, next_state, done)\n",
        "            state = next_state\n",
        "            episode_return += reward\n",
        "            if replay_buffer.size() > minimal_size:\n",
        "                b_s, b_a, b_r, b_ns, b_d = replay_buffer.sample(batch_size)\n",
        "                transition_dict = {'states': b_s, 'actions': b_a, 'next_states': b_ns, 'rewards': b_r, 'dones': b_d}\n",
        "                agent.update(transition_dict)\n",
        "        return_list.append(episode_return)\n",
        "\n",
        "          \n",
        "    return return_list\n",
        "\n",
        "\n",
        "def compute_advantage(gamma, lmbda, td_delta):\n",
        "    td_delta = td_delta.detach().numpy()\n",
        "    advantage_list = []\n",
        "    advantage = 0.0\n",
        "    for delta in td_delta[::-1]:\n",
        "        advantage = gamma * lmbda * advantage + delta\n",
        "        advantage_list.append(advantage)\n",
        "    advantage_list.reverse()\n",
        "    return torch.tensor(advantage_list, dtype=torch.float)"
      ],
      "metadata": {
        "id": "1LI8zbi2WihO"
      },
      "execution_count": 103,
      "outputs": []
    },
    {
      "cell_type": "code",
      "source": [
        "class VAnet(torch.nn.Module):\n",
        "    def __init__(self, state_dim, hidden_dim, action_dim):\n",
        "        super(VAnet, self).__init__()\n",
        "\n",
        "        self.fc1=nn.Sequential(\n",
        "            nn.Linear(state_dim, 128),\n",
        "            nn.ReLU(),\n",
        "            nn.Linear(128, 128),\n",
        "            nn.ReLU(),\n",
        "            nn.Linear(128, hidden_dim)\n",
        "        ) # 共享网络部分\n",
        "\n",
        "        self.fc_A = nn.Sequential(\n",
        "            nn.Linear(hidden_dim,64 ),\n",
        "            nn.ReLU(),\n",
        "            nn.Linear(64, 64),\n",
        "            nn.ReLU(),\n",
        "            nn.Linear(64, action_dim)\n",
        "        ) \n",
        "        self.fc_V = nn.Sequential(\n",
        "            nn.Linear(hidden_dim,64),\n",
        "            nn.ReLU(),\n",
        "            nn.Linear(64, 64),\n",
        "            nn.ReLU(),\n",
        "            nn.Linear(64, 1)\n",
        "        ) \n",
        "\n",
        "    def forward(self, x):\n",
        "        A = self.fc_A(F.relu(self.fc1(x)))\n",
        "        V = self.fc_V(F.relu(self.fc1(x)))\n",
        "        Q = V + A - A.mean(1).view(-1, 1)  # Q值由V值和A值计算得到\n",
        "        return Q\n",
        "\n",
        "\n",
        "class DQN:\n",
        "    ''' DQN算法,包括Double DQN和Dueling DQN '''\n",
        "    def __init__(self,\n",
        "                 state_dim,\n",
        "                 hidden_dim,\n",
        "                 action_dim,\n",
        "                 learning_rate,\n",
        "                 gamma,\n",
        "                 epsilon,\n",
        "                 target_update,\n",
        "                 device,\n",
        "                 dqn_type='VanillaDQN'):\n",
        "        self.action_dim = action_dim\n",
        "        if dqn_type == 'DuelingDQN':  # Dueling DQN采取不一样的网络框架\n",
        "            self.q_net = VAnet(state_dim, hidden_dim,\n",
        "                               self.action_dim).to(device)\n",
        "            self.target_q_net = VAnet(state_dim, hidden_dim,\n",
        "                                      self.action_dim).to(device)\n",
        "        else:\n",
        "            self.q_net = Qnet(state_dim, hidden_dim,\n",
        "                              self.action_dim).to(device)\n",
        "            self.target_q_net = Qnet(state_dim, hidden_dim,\n",
        "                                     self.action_dim).to(device)\n",
        "        self.optimizer = torch.optim.Adam(self.q_net.parameters(),\n",
        "                                          lr=learning_rate)\n",
        "        self.gamma = gamma\n",
        "        self.epsilon = epsilon\n",
        "        self.target_update = target_update\n",
        "        self.count = 0\n",
        "        self.dqn_type = dqn_type\n",
        "        self.device = device\n",
        "\n",
        "    def take_action(self, state):\n",
        "        if np.random.random() < self.epsilon:\n",
        "            action = np.random.randint(self.action_dim)\n",
        "           # print(\"1111----11111\")\n",
        "        else:\n",
        "            state = torch.tensor([state], dtype=torch.float).to(self.device)\n",
        "            action = self.q_net(state).argmax().item()\n",
        "           # print(\"2222-----22222\")\n",
        "        return action\n",
        "\n",
        "    def max_q_value(self, state):\n",
        "        state = torch.tensor([state], dtype=torch.float).to(self.device)\n",
        "        return self.q_net(state).max().item()\n",
        "\n",
        "    def update(self, transition_dict):\n",
        "        states = torch.tensor(transition_dict['states'],\n",
        "                              dtype=torch.float).to(self.device)\n",
        "        actions = torch.tensor(transition_dict['actions']).view(-1, 1).to(\n",
        "            self.device)\n",
        "        rewards = torch.tensor(transition_dict['rewards'],\n",
        "                               dtype=torch.float).view(-1, 1).to(self.device)\n",
        "        next_states = torch.tensor(transition_dict['next_states'],\n",
        "                                   dtype=torch.float).to(self.device)\n",
        "        dones = torch.tensor(transition_dict['dones'],\n",
        "                             dtype=torch.float).view(-1, 1).to(self.device)\n",
        "        #print(len(states))\n",
        "\n",
        "\n",
        "        q_values = self.q_net(states).gather(1, actions)\n",
        "\n",
        "\n",
        "        if self.dqn_type == 'DoubleDQN':\n",
        "            max_action = self.q_net(next_states).max(1)[1].view(-1, 1)\n",
        "            max_next_q_values = self.target_q_net(next_states).gather(\n",
        "                1, max_action)\n",
        "        else:\n",
        "            max_next_q_values = self.target_q_net(next_states).max(1)[0].view(\n",
        "                -1, 1)\n",
        "        q_targets = rewards + self.gamma * max_next_q_values * (1 - dones)\n",
        "        dqn_loss = torch.mean(F.mse_loss(q_values, q_targets))\n",
        "        self.optimizer.zero_grad()\n",
        "        dqn_loss.backward()\n",
        "        self.optimizer.step()\n",
        "\n",
        "        if self.count % self.target_update == 0:\n",
        "            self.target_q_net.load_state_dict(self.q_net.state_dict())\n",
        "        self.count += 1\n",
        "    def save_pass_models(self,num):\n",
        "        path='/content/drive/MyDrive/Model/Pass/pass_model('+str(num)+').pt'\n",
        "        torch.save(self.q_net.state_dict(),path)\n",
        "\n",
        "\n",
        "    def save_great_models(self,title):\n",
        "        path='/content/drive/MyDrive/Model/Great('+str(title)+').pt'\n",
        "        torch.save(self.q_net.state_dict(),path)\n",
        " \n",
        "    \n",
        "        \n",
        "\n"
      ],
      "metadata": {
        "id": "4ywZTl_gXA3v"
      },
      "execution_count": 104,
      "outputs": []
    },
    {
      "cell_type": "code",
      "source": [
        "def train_DQN(agent, env, num_episodes, replay_buffer, minimal_size,batch_size,bench_mark,goal,title):\n",
        "    return_list = []\n",
        "    max_q_value_list = []\n",
        "    max_q_value = 0\n",
        "    pass_list=[]\n",
        "    great_list=[]\n",
        "    x=0\n",
        "    max=goal\n",
        "    for i in range(10):\n",
        "        with tqdm(total=int(num_episodes / 10),\n",
        "                  desc='Iteration %d' % i) as pbar:\n",
        "            for i_episode in range(int(num_episodes / 10)):\n",
        "                episode_return = 0\n",
        "                state = env.reset()\n",
        "                done = False\n",
        "                while not done:\n",
        "                    #print(state,\"----\")\n",
        "                    action_id = agent.take_action(state)\n",
        "                    \n",
        "                    action=env.action_space[action_id]\n",
        "                    max_q_value = agent.max_q_value(\n",
        "                        state) * 0.005 + max_q_value * 0.995  # 平滑处理\n",
        "                    max_q_value_list.append(max_q_value)  # 保存每个状态的最大Q值\n",
        "                    \n",
        "                    _, reward, next_state,done = env.step(action)\n",
        "                    replay_buffer.add(state, action_id, reward, next_state, done)\n",
        "                    \n",
        "                    state = next_state\n",
        "                    episode_return += reward\n",
        "                    \n",
        "                    if replay_buffer.size() > minimal_size:\n",
        "                        \n",
        "                        b_s, b_a, b_r, b_ns, b_d = replay_buffer.sample(\n",
        "                            batch_size)\n",
        "                        transition_dict = {\n",
        "                            'states': b_s,\n",
        "                            'actions': b_a,\n",
        "                            'next_states': b_ns,\n",
        "                            'rewards': b_r,\n",
        "                            'dones': b_d\n",
        "                        }\n",
        "                        agent.update(transition_dict)\n",
        "                    #print(state,\"!!!!\")\n",
        "                return_list.append(episode_return)\n",
        "                if episode_return>bench_mark:\n",
        "                  #better than bench mark\n",
        "                    pass_list.append(episode_return)\n",
        "\n",
        "                if episode_return>max:\n",
        "                    max=episode_return\n",
        "                    x+=1\n",
        "                    agent.save_great_models(title)\n",
        "                    great_list.append(episode_return)\n",
        "\n",
        "                \n",
        "                if (i_episode + 1) % 10 == 0:\n",
        "                    pbar.set_postfix({\n",
        "                        'episode':\n",
        "                        '%d' % (num_episodes / 10 * i + i_episode + 1),\n",
        "                        'max_return':\n",
        "                        '%.3f' % np.max(return_list[-i_episode:])\n",
        "                    })\n",
        "                pbar.update(1)\n",
        "    return return_list, max_q_value_list,pass_list,great_list"
      ],
      "metadata": {
        "id": "-s2eVikNXjWa"
      },
      "execution_count": 105,
      "outputs": []
    },
    {
      "cell_type": "markdown",
      "source": [
        "#Train"
      ],
      "metadata": {
        "id": "xJKuu5olyXiI"
      }
    },
    {
      "cell_type": "code",
      "source": [
        "def space_selct(test,leading_time,quantile):\n",
        "\n",
        "  sum=[]\n",
        "  j=0\n",
        "  action=[]\n",
        "\n",
        "  for i in range(len(test)):\n",
        "    for length in range(leading_time):\n",
        "      total=0\n",
        "      if i+length<len(test):\n",
        "        for j in range(length):\n",
        "          total+=test[i+j]\n",
        "        sum.append(total)\n",
        "\n",
        "  for i in range(quantile):\n",
        "    a=int(np.percentile(np.array(sum),i*100/quantile))\n",
        "    if a not in action:\n",
        "      action.append(a*i)\n",
        "  return action\n",
        "\n",
        "    \n",
        "    "
      ],
      "metadata": {
        "id": "15sg9NpTHosa"
      },
      "execution_count": 106,
      "outputs": []
    },
    {
      "cell_type": "code",
      "source": [
        "lr = .25e-3\n",
        "num_episodes = 5000\n",
        "hidden_dim = 128\n",
        "gamma = 0.99\n",
        "epsilon = 0.01\n",
        "target_update = 50\n",
        "buffer_size = 50000\n",
        "minimal_size = 1000\n",
        "batch_size = 64\n",
        "emergency_rate=0.01\n",
        "\n",
        "leading_space=[12,12,12,12,19,12,12,12,12,12,12,12,19]\n",
        "holding_cost=[0.05,0.05,0.1,0.1,0.05,0.1,0.1,0.05,0.05,0.1,0.1,0.05,0.1]\n",
        "index=0\n",
        "\n",
        "for title in pivot_test.index:\n",
        " \n",
        "\n",
        "  if index==9:\n",
        "    print(title,index)\n",
        "    leading_time=leading_space[index]\n",
        "    demand_list=pivot_test.loc[title]\n",
        "    space=space_selct(demand_list,leading_time,20)\n",
        "\n",
        "\n",
        "    env=Inventory(leading_time,demand_list,space,emergency_rate,holding_cost[index])\n",
        "    bench,ben_pen=Benchmark(env)\n",
        "    goal,goal_pen=Goal(env)\n",
        "\n",
        "    device = torch.device(\"cuda\") if torch.cuda.is_available() else torch.device(\"cpu\")\n",
        "    state_dim = 2\n",
        "    action_dim = len(env.action_space)\n",
        "\n",
        "    random.seed(0)\n",
        "    np.random.seed(0)\n",
        "\n",
        "\n",
        "    torch.manual_seed(0)\n",
        "\n",
        "    replay_buffer =ReplayBuffer(buffer_size)\n",
        "\n",
        "    agent = DQN(state_dim, hidden_dim, action_dim, lr, gamma, epsilon,\n",
        "                target_update, device, 'DuelingDQN')\n",
        "    return_list, max_q_value_list,pass_list,great_list = train_DQN(agent, env, num_episodes,replay_buffer, minimal_size,batch_size,bench,bench,title)\n",
        "\n",
        "    episodes_list = list(range(len(return_list)))\n",
        "    mv_return = moving_average(return_list, 5)\n",
        "    plt.plot(episodes_list, mv_return)\n",
        "    plt.title(str(title))\n",
        "    plt.xlabel('Episodes')\n",
        "    plt.ylabel('Returns')\n",
        "\n",
        "    plt.show()\n",
        "\n",
        "    frames_list = list(range(len(max_q_value_list)))\n",
        "    plt.plot(frames_list, max_q_value_list)\n",
        "    plt.axhline(0, c='orange', ls='--')\n",
        "    plt.axhline(10, c='red', ls='--')\n",
        "    plt.title(str(title))\n",
        "    plt.xlabel('Frames')\n",
        "    plt.ylabel('Q value')\n",
        "\n",
        "    plt.show()\n",
        "  index+=1\n"
      ],
      "metadata": {
        "colab": {
          "base_uri": "https://localhost:8080/",
          "height": 769
        },
        "id": "K3sk3e0qXlbB",
        "outputId": "c6408747-c4e2-4628-ef9f-328eaff83fad"
      },
      "execution_count": 96,
      "outputs": [
        {
          "output_type": "stream",
          "name": "stdout",
          "text": [
            "('F', 'X1') 9\n"
          ]
        },
        {
          "output_type": "stream",
          "name": "stderr",
          "text": [
            "Iteration 0: 100%|██████████| 500/500 [05:44<00:00,  1.45it/s, episode=500, max_return=-6364.836]\n",
            "Iteration 1: 100%|██████████| 500/500 [05:53<00:00,  1.41it/s, episode=1000, max_return=-5373.897]\n",
            "Iteration 2: 100%|██████████| 500/500 [05:53<00:00,  1.41it/s, episode=1500, max_return=-6046.191]\n",
            "Iteration 3: 100%|██████████| 500/500 [05:51<00:00,  1.42it/s, episode=2000, max_return=-4838.509]\n",
            "Iteration 4: 100%|██████████| 500/500 [05:52<00:00,  1.42it/s, episode=2500, max_return=-5850.100]\n",
            "Iteration 5: 100%|██████████| 500/500 [05:52<00:00,  1.42it/s, episode=3000, max_return=-5041.747]\n",
            "Iteration 6: 100%|██████████| 500/500 [05:52<00:00,  1.42it/s, episode=3500, max_return=-5956.162]\n",
            "Iteration 7: 100%|██████████| 500/500 [05:54<00:00,  1.41it/s, episode=4000, max_return=-5563.891]\n",
            "Iteration 8: 100%|██████████| 500/500 [05:51<00:00,  1.42it/s, episode=4500, max_return=-5785.848]\n",
            "Iteration 9: 100%|██████████| 500/500 [05:51<00:00,  1.42it/s, episode=5000, max_return=-5840.554]\n"
          ]
        },
        {
          "output_type": "display_data",
          "data": {
            "text/plain": [
              "<Figure size 432x288 with 1 Axes>"
            ],
            "image/png": "[encoded data removed]"
          },
          "metadata": {
            "needs_background": "light"
          }
        },
        {
          "output_type": "display_data",
          "data": {
            "text/plain": [
              "<Figure size 432x288 with 1 Axes>"
            ],
            "image/png": "[encoded data removed]"
          },
          "metadata": {
            "needs_background": "light"
          }
        }
      ]
    },
    {
      "cell_type": "markdown",
      "source": [
        "#Test"
      ],
      "metadata": {
        "id": "ZVESt1Fw3Eqe"
      }
    },
    {
      "cell_type": "code",
      "source": [
        "def test_DQN(agent,env, num_episodes,goal):\n",
        "    return_list = []\n",
        "    optimal_policy=[]\n",
        "    optimal_inv=[]\n",
        "    penalty=0\n",
        "\n",
        "    max=goal\n",
        "    for i_episode in range(num_episodes):\n",
        "        episode_return = 0\n",
        "        state = env.reset()\n",
        "        done = False\n",
        "        action_list=[]\n",
        "        inventory_list=[]\n",
        "\n",
        "        while not done:\n",
        "            #print(state,\"----\")\n",
        "            action_id = agent.take_action(state)   \n",
        "            action=env.action_space[action_id]\n",
        "            action_list.append(action)\n",
        "            \n",
        "            _, reward, next_state,done = env.step(action)\n",
        "            state = next_state\n",
        "            episode_return += reward\n",
        "            inventory_list.append(state[0])\n",
        "\n",
        "        return_list.append(episode_return)\n",
        "        if episode_return>max:\n",
        "          optimal_policy=action_list.copy()\n",
        "          optimal_inv=inventory_list.copy()\n",
        "          penalty=env.penalty\n",
        "        \n",
        "          '''\n",
        "        if (i_episode + 1) % 10 == 0:\n",
        "            print({\n",
        "                'episode':\n",
        "                '%d' % ( i_episode + 1),\n",
        "                'return':\n",
        "                '%.3f' % np.max(return_list[-10:])\n",
        "            })\n",
        "            '''\n",
        "    return return_list,optimal_policy,optimal_inv,penalty"
      ],
      "metadata": {
        "id": "OlwvOT4d7eSo"
      },
      "execution_count": 107,
      "outputs": []
    },
    {
      "cell_type": "code",
      "source": [
        "def plot_(demand_list,inv_list,action_list,titile,return_list):\n",
        "  plt.plot(demand_list.index[0:89],inv_list,label = 'inv')\n",
        "  plt.plot(demand_list.index[0:89],action_list,label='action')\n",
        "  plt.plot(demand_list.index[0:89],demand_list[0:89],label='demand')\n",
        "  plt.title(title)\n",
        "  plt.plot()\n",
        "  plt.legend()\n",
        "\n",
        "  plt.plot(return_list)\n",
        "  plt.title(title)\n"
      ],
      "metadata": {
        "id": "4StauGhAGIrF"
      },
      "execution_count": 108,
      "outputs": []
    },
    {
      "cell_type": "code",
      "source": [
        "def plot_inv(demand_list,inv_list,action_list,titile):\n",
        "  plt.plot(demand_list.index[0:89],inv_list,label = 'inv')\n",
        "  #plt.plot(demand_list.index[0:89],action_list,label='action')\n",
        "  plt.plot(demand_list.index[0:89],demand_list[0:89],label='demand')\n",
        "  plt.title(title)\n",
        "  plt.plot()\n",
        "  plt.legend()"
      ],
      "metadata": {
        "id": "aMn66xWBHpPB"
      },
      "execution_count": 109,
      "outputs": []
    },
    {
      "cell_type": "code",
      "source": [
        "demand_list"
      ],
      "metadata": {
        "id": "RlmZxyJWIbL2",
        "outputId": "6f1fd129-d46a-46c9-f8cd-85cd400438c3",
        "colab": {
          "base_uri": "https://localhost:8080/"
        }
      },
      "execution_count": 110,
      "outputs": [
        {
          "output_type": "execute_result",
          "data": {
            "text/plain": [
              "ds\n",
              "2019-01-01      0\n",
              "2019-01-02      0\n",
              "2019-01-03      0\n",
              "2019-01-04      0\n",
              "2019-01-05      0\n",
              "             ... \n",
              "2019-03-27    289\n",
              "2019-03-28    104\n",
              "2019-03-29     35\n",
              "2019-03-30      0\n",
              "2019-03-31      0\n",
              "Name: (F, X1), Length: 90, dtype: int64"
            ]
          },
          "metadata": {},
          "execution_count": 110
        }
      ]
    },
    {
      "cell_type": "code",
      "source": [
        "lr = .25e-3\n",
        "num_episodes = 5000\n",
        "hidden_dim = 128\n",
        "gamma = 0.99\n",
        "epsilon = 0.01\n",
        "target_update = 50\n",
        "buffer_size = 50000\n",
        "minimal_size = 1000\n",
        "batch_size = 64\n",
        "\n",
        "\n",
        "emergency_rate=0.01\n",
        "device = torch.device(\"cuda\") if torch.cuda.is_available() else torch.device(\"cpu\")\n",
        "\n",
        "leading_space=[12,12,12,12,19,12,12,12,12,12,12,12,19]\n",
        "holding_cost=[0.05,0.05,0.1,0.1,0.05,0.1,0.1,0.05,0.05,0.1,0.1,0.05,0.1]\n",
        "index=0\n",
        "\n",
        "info=pd.DataFrame(columns=['reward','action','inv','penalty','goal','bench','goal_pen','ben_pen'])\n",
        "\n",
        "\n",
        "for title in pivot_test.index:\n",
        "\n",
        "  if index==9:\n",
        "    demand_list=pivot_test.loc[title]\n",
        "    leading_time=leading_space[index]\n",
        "    demand_list=pivot_test.loc[title]\n",
        "    space=space_selct(demand_list,leading_time,20)\n",
        "    x=title\n",
        "    \n",
        "\n",
        "\n",
        "    env=Inventory(leading_time,demand_list,space,emergency_rate,holding_cost[index])\n",
        "    bench,ben_pen=Benchmark(env)\n",
        "    goal,goal_pen=Goal(env)\n",
        "\n",
        "    state_dim = 2\n",
        "    action_dim = len(env.action_space)\n",
        "\n",
        "    agent1 = DQN(state_dim, hidden_dim, action_dim, lr, gamma, epsilon,\n",
        "                target_update, device, 'DuelingDQN')\n",
        "    agent1.q_net.load_state_dict(torch.load('/content/drive/MyDrive/Model/Great('+str(x)+').pt'))\n",
        "    print(x)\n",
        "    agent1.q_net.eval()\n",
        "\n",
        "    return_list,action_list,inv_list,penalty= test_DQN(agent1, env, 500,bench)\n",
        "    #plot_inv(demand_list,inv_list,action_list,title)\n",
        "\n",
        "  # info.loc[title]=[return_list,action_list,inv_list,penalty,goal,bench,goal_pen,ben_pen]\n",
        "  index+=1\n",
        "\n"
      ],
      "metadata": {
        "colab": {
          "base_uri": "https://localhost:8080/"
        },
        "id": "YT56kvqlDf8X",
        "outputId": "53e8168d-949d-4535-9d44-8a8457fe10f4"
      },
      "execution_count": 111,
      "outputs": [
        {
          "output_type": "stream",
          "name": "stdout",
          "text": [
            "('F', 'X1')\n"
          ]
        }
      ]
    },
    {
      "cell_type": "code",
      "source": [
        "index==6\n",
        "index==10\n",
        "index==9"
      ],
      "metadata": {
        "id": "IHOjJZZdQpbe",
        "outputId": "8ad47c18-4fff-4fae-f043-e41c233e59f5",
        "colab": {
          "base_uri": "https://localhost:8080/"
        }
      },
      "execution_count": 86,
      "outputs": [
        {
          "output_type": "execute_result",
          "data": {
            "text/plain": [
              "False"
            ]
          },
          "metadata": {},
          "execution_count": 86
        }
      ]
    },
    {
      "cell_type": "code",
      "source": [
        "plt.plot(return_list,label='model return')\n",
        "\n",
        "plt.axhline(goal, c='red', ls='--',label='goal benchmark')\n",
        "plt.axhline(bench, c='orange', ls='--',label='basic benchmark')\n",
        "plt.legend(loc='best')\n",
        "plt.xlabel('episode')\n",
        "plt.xticks(rotation=30)\n",
        "plt.ylabel('return')\n",
        "plt.title(x)"
      ],
      "metadata": {
        "colab": {
          "base_uri": "https://localhost:8080/",
          "height": 321
        },
        "id": "WREidaQ8MAVC",
        "outputId": "19f5732b-9643-4d18-c468-9e53a451cedc"
      },
      "execution_count": 112,
      "outputs": [
        {
          "output_type": "execute_result",
          "data": {
            "text/plain": [
              "Text(0.5, 1.0, \"('F', 'X1')\")"
            ]
          },
          "metadata": {},
          "execution_count": 112
        },
        {
          "output_type": "display_data",
          "data": {
            "text/plain": [
              "<Figure size 432x288 with 1 Axes>"
            ],
            "image/png": "[encoded data removed]"
          },
          "metadata": {
            "needs_background": "light"
          }
        }
      ]
    },
    {
      "cell_type": "code",
      "source": [
        "plt.plot(demand_list.index[0:89],inv_list,label = 'inv')\n",
        "#plt.plot(demand_list.index[0:89],action_list,label='action')\n",
        "plt.plot(demand_list.index[0:89],demand_list[0:89],label='demand')\n",
        "plt.plot()\n",
        "plt.title(x)\n",
        "plt.xticks(rotation=30)\n",
        "plt.legend(loc='best')"
      ],
      "metadata": {
        "colab": {
          "base_uri": "https://localhost:8080/",
          "height": 327
        },
        "id": "bwaJXwQGIaam",
        "outputId": "4debfbce-ad47-4c30-f121-1c28a76a1abe"
      },
      "execution_count": 113,
      "outputs": [
        {
          "output_type": "execute_result",
          "data": {
            "text/plain": [
              "<matplotlib.legend.Legend at 0x7f29c94c4390>"
            ]
          },
          "metadata": {},
          "execution_count": 113
        },
        {
          "output_type": "display_data",
          "data": {
            "text/plain": [
              "<Figure size 432x288 with 1 Axes>"
            ],
            "image/png": "[encoded data removed]"
          },
          "metadata": {
            "needs_background": "light"
          }
        }
      ]
    },
    {
      "cell_type": "code",
      "source": [
        "penalty"
      ],
      "metadata": {
        "colab": {
          "base_uri": "https://localhost:8080/"
        },
        "id": "9epO9BEYETNA",
        "outputId": "9cfaeb51-9628-476c-a5e1-b3bb6c349938"
      },
      "execution_count": 45,
      "outputs": [
        {
          "output_type": "execute_result",
          "data": {
            "text/plain": [
              "11190"
            ]
          },
          "metadata": {},
          "execution_count": 45
        }
      ]
    },
    {
      "cell_type": "code",
      "source": [
        ""
      ],
      "metadata": {
        "id": "VEePArZF4gvE"
      },
      "execution_count": null,
      "outputs": []
    },
    {
      "cell_type": "code",
      "source": [
        "max(return_list)"
      ],
      "metadata": {
        "colab": {
          "base_uri": "https://localhost:8080/"
        },
        "id": "51uLiKwzFMUn",
        "outputId": "b4764baf-9ba0-4424-cf13-afbae4d28c27"
      },
      "execution_count": null,
      "outputs": [
        {
          "output_type": "execute_result",
          "data": {
            "text/plain": [
              "-39924.29999999998"
            ]
          },
          "metadata": {},
          "execution_count": 77
        }
      ]
    },
    {
      "cell_type": "code",
      "source": [
        "len(inv_list)"
      ],
      "metadata": {
        "colab": {
          "base_uri": "https://localhost:8080/"
        },
        "id": "xPGPvDqhi92Q",
        "outputId": "a837af70-1d23-404a-ee89-1146cf34af43"
      },
      "execution_count": null,
      "outputs": [
        {
          "output_type": "execute_result",
          "data": {
            "text/plain": [
              "89"
            ]
          },
          "metadata": {},
          "execution_count": 78
        }
      ]
    },
    {
      "cell_type": "code",
      "source": [
        "penalty"
      ],
      "metadata": {
        "id": "RizXAfR6JftM",
        "colab": {
          "base_uri": "https://localhost:8080/"
        },
        "outputId": "1510bd43-507e-4428-fda1-842de407925b"
      },
      "execution_count": null,
      "outputs": [
        {
          "output_type": "execute_result",
          "data": {
            "text/plain": [
              "11110"
            ]
          },
          "metadata": {},
          "execution_count": 87
        }
      ]
    },
    {
      "cell_type": "code",
      "source": [
        ""
      ],
      "metadata": {
        "id": "DoNupI_Y79G4"
      },
      "execution_count": null,
      "outputs": []
    }
  ]
}