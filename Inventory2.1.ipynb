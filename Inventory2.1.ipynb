{
  "nbformat": 4,
  "nbformat_minor": 0,
  "metadata": {
    "colab": {
      "name": "“Inventory.ipynb”的副本",
      "provenance": [],
      "collapsed_sections": [],
      "include_colab_link": true
    },
    "kernelspec": {
      "name": "python3",
      "display_name": "Python 3"
    },
    "language_info": {
      "name": "python"
    },
    "gpuClass": "standard",
    "accelerator": "GPU"
  },
  "cells": [
    {
      "cell_type": "markdown",
      "metadata": {
        "id": "view-in-github",
        "colab_type": "text"
      },
      "source": [
        "<a href=\"https://colab.research.google.com/github/Xixianghu202124213/Capstone/blob/main/Inventory2.1.ipynb\" target=\"_parent\"><img src=\"https://colab.research.google.com/assets/colab-badge.svg\" alt=\"Open In Colab\"/></a>"
      ]
    },
    {
      "cell_type": "code",
      "source": [
        "from google.colab import drive\n",
        "drive.mount('/content/drive')"
      ],
      "metadata": {
        "colab": {
          "base_uri": "https://localhost:8080/"
        },
        "id": "c4CmrTmznPAi",
        "outputId": "afe14a15-43e8-41c9-eba7-dc6250ff3fc8"
      },
      "execution_count": 2,
      "outputs": [
        {
          "output_type": "stream",
          "name": "stdout",
          "text": [
            "Mounted at /content/drive\n"
          ]
        }
      ]
    },
    {
      "cell_type": "code",
      "execution_count": 1,
      "metadata": {
        "id": "wmY57ceAV-Ib"
      },
      "outputs": [],
      "source": [
        "import torch\n",
        "import torch.nn as nn\n",
        "import torch.optim as optim\n",
        "import torch.nn.functional as F\n",
        "import torchvision.transforms as T\n",
        "from tqdm import tqdm\n",
        "import gym\n",
        "import math\n",
        "import random\n",
        "import numpy as np\n",
        "import pandas as pd\n",
        "import matplotlib\n",
        "import matplotlib.pyplot as plt\n",
        "import collections"
      ]
    },
    {
      "cell_type": "code",
      "source": [
        "def data_split(data, train_percentage = 0.8):\n",
        "    total = pd.to_datetime(data[\"ds\"].unique(),format=\"%d.%m.%Y\")\n",
        "    train = int(len(total) * train_percentage)\n",
        "    train_idx = total[0:train]\n",
        "    test_idx = total[train:train+90]\n",
        "    train_dataset = data.iloc[[date in train_idx for date in data['ds']],:]\n",
        "    test_dataset = data.iloc[[date in test_idx for date in data['ds']],:]\n",
        "    return train_dataset, test_dataset"
      ],
      "metadata": {
        "id": "fb1fm3tiWdKR"
      },
      "execution_count": 3,
      "outputs": []
    },
    {
      "cell_type": "code",
      "source": [
        "data=pd.read_csv(\"/content/drive/MyDrive/Data/historical_orders.csv\",sep = ';')\n",
        "data[\"DATE\"]=pd.to_datetime(data[\"DATE\"],format=\"%d.%m.%Y\")\n",
        "data = data.rename(columns={'DATE': 'ds', 'QUANTITY': 'y','MATERIAL_NUMBER' :'product', 'PLANT': 'plant'})\n",
        "data = data[data['ds'] < '2020-01-01']\n",
        "\n",
        "#splite the test and train\n",
        "train, test = data_split(data)\n",
        "train, test = data_split(data)\n",
        "pivot_train = pd.pivot_table(train, values='y', index=['product', 'plant'], columns=['ds'], aggfunc=np.mean)\n",
        "train_series = pivot_train.iloc[8,:]\n",
        "pivot_test = pd.pivot_table(test, values='y', index=['product', 'plant'], columns=['ds'], aggfunc=np.mean)\n",
        "test_series = pivot_test.iloc[8,:]\n"
      ],
      "metadata": {
        "id": "JwendsmyWdz7"
      },
      "execution_count": 4,
      "outputs": []
    },
    {
      "cell_type": "code",
      "source": [
        "pivot_test"
      ],
      "metadata": {
        "colab": {
          "base_uri": "https://localhost:8080/",
          "height": 599
        },
        "id": "mSctdvquvthG",
        "outputId": "6b35247c-7f6d-4c12-d934-e09ad8ca24e0"
      },
      "execution_count": 5,
      "outputs": [
        {
          "output_type": "execute_result",
          "data": {
            "text/plain": [
              "ds             2019-01-01  2019-01-02  2019-01-03  2019-01-04  2019-01-05  \\\n",
              "product plant                                                               \n",
              "A       X1              0         188         323         408           0   \n",
              "        X2              0         634         549         336           0   \n",
              "B       X1              0        3256        2117        1988           0   \n",
              "        X2              0        3356        3572        4272           0   \n",
              "C       X1              0          15           0          12           0   \n",
              "D       X1              0         865         564         800           0   \n",
              "        X2              0        6914       10349        9115           0   \n",
              "E       X1              0        2028        4240        1863           0   \n",
              "        X2              0        9933       11858       16904           0   \n",
              "F       X1              0           0           0           0           0   \n",
              "        X2              0           0           0           0           0   \n",
              "G       X2              0           0           0           0           0   \n",
              "H       X2              0         202          55           6          18   \n",
              "\n",
              "ds             2019-01-06  2019-01-07  2019-01-08  2019-01-09  2019-01-10  \\\n",
              "product plant                                                               \n",
              "A       X1              0           0         126         336         551   \n",
              "        X2              0        3243         365        1269         276   \n",
              "B       X1              0        1110        2002        1865         837   \n",
              "        X2              0        2598        3317        3897        3790   \n",
              "C       X1              0           1           0           2           0   \n",
              "D       X1              0          84         289         337         994   \n",
              "        X2              0       12858        2793        5692        4685   \n",
              "E       X1              0         440        1583        1666        1885   \n",
              "        X2             48       25365        5820       13085        6455   \n",
              "F       X1              0           0           0           0           0   \n",
              "        X2              0           0           0           0           0   \n",
              "G       X2              0           0           0           0         624   \n",
              "H       X2              0         258          15           2          13   \n",
              "\n",
              "ds             ...  2019-03-22  2019-03-23  2019-03-24  2019-03-25  \\\n",
              "product plant  ...                                                   \n",
              "A       X1     ...         306           0           0          98   \n",
              "        X2     ...         676           0           0        2020   \n",
              "B       X1     ...         617           0           0        2310   \n",
              "        X2     ...        4023           0           0        4137   \n",
              "C       X1     ...           0           0           0          19   \n",
              "D       X1     ...         430           0           0         107   \n",
              "        X2     ...       12253          48          48        2457   \n",
              "E       X1     ...        1537           0           0         739   \n",
              "        X2     ...        8965          48         384        6775   \n",
              "F       X1     ...           0           0           0          87   \n",
              "        X2     ...           0           0         232          25   \n",
              "G       X2     ...           0           0           0           0   \n",
              "H       X2     ...           0           0          90           0   \n",
              "\n",
              "ds             2019-03-26  2019-03-27  2019-03-28  2019-03-29  2019-03-30  \\\n",
              "product plant                                                               \n",
              "A       X1            245         622         155         386           0   \n",
              "        X2            519         348        2290         520           0   \n",
              "B       X1           2918        1835        1313         789           0   \n",
              "        X2           3008        2799        3327        1454           0   \n",
              "C       X1              0          30           0           3           0   \n",
              "D       X1            463        1341         845        1465           0   \n",
              "        X2           3571       43417        7987        4575           0   \n",
              "E       X1           4062        5094        2539        2072           0   \n",
              "        X2           8013       21153       20746       10070         364   \n",
              "F       X1              0         289         104          35           0   \n",
              "        X2             65         422        1159         290           7   \n",
              "G       X2              0         193         720          48           0   \n",
              "H       X2              0         137           0           1           0   \n",
              "\n",
              "ds             2019-03-31  \n",
              "product plant              \n",
              "A       X1              0  \n",
              "        X2              0  \n",
              "B       X1              0  \n",
              "        X2              0  \n",
              "C       X1              0  \n",
              "D       X1              0  \n",
              "        X2              0  \n",
              "E       X1              0  \n",
              "        X2            480  \n",
              "F       X1              0  \n",
              "        X2              0  \n",
              "G       X2              0  \n",
              "H       X2              0  \n",
              "\n",
              "[13 rows x 90 columns]"
            ],
            "text/html": [
              "\n",
              "  <div id=\"df-725428a5-76ce-4953-895e-1f2da938c3e6\">\n",
              "    <div class=\"colab-df-container\">\n",
              "      <div>\n",
              "<style scoped>\n",
              "    .dataframe tbody tr th:only-of-type {\n",
              "        vertical-align: middle;\n",
              "    }\n",
              "\n",
              "    .dataframe tbody tr th {\n",
              "        vertical-align: top;\n",
              "    }\n",
              "\n",
              "    .dataframe thead th {\n",
              "        text-align: right;\n",
              "    }\n",
              "</style>\n",
              "<table border=\"1\" class=\"dataframe\">\n",
              "  <thead>\n",
              "    <tr style=\"text-align: right;\">\n",
              "      <th></th>\n",
              "      <th>ds</th>\n",
              "      <th>2019-01-01</th>\n",
              "      <th>2019-01-02</th>\n",
              "      <th>2019-01-03</th>\n",
              "      <th>2019-01-04</th>\n",
              "      <th>2019-01-05</th>\n",
              "      <th>2019-01-06</th>\n",
              "      <th>2019-01-07</th>\n",
              "      <th>2019-01-08</th>\n",
              "      <th>2019-01-09</th>\n",
              "      <th>2019-01-10</th>\n",
              "      <th>...</th>\n",
              "      <th>2019-03-22</th>\n",
              "      <th>2019-03-23</th>\n",
              "      <th>2019-03-24</th>\n",
              "      <th>2019-03-25</th>\n",
              "      <th>2019-03-26</th>\n",
              "      <th>2019-03-27</th>\n",
              "      <th>2019-03-28</th>\n",
              "      <th>2019-03-29</th>\n",
              "      <th>2019-03-30</th>\n",
              "      <th>2019-03-31</th>\n",
              "    </tr>\n",
              "    <tr>\n",
              "      <th>product</th>\n",
              "      <th>plant</th>\n",
              "      <th></th>\n",
              "      <th></th>\n",
              "      <th></th>\n",
              "      <th></th>\n",
              "      <th></th>\n",
              "      <th></th>\n",
              "      <th></th>\n",
              "      <th></th>\n",
              "      <th></th>\n",
              "      <th></th>\n",
              "      <th></th>\n",
              "      <th></th>\n",
              "      <th></th>\n",
              "      <th></th>\n",
              "      <th></th>\n",
              "      <th></th>\n",
              "      <th></th>\n",
              "      <th></th>\n",
              "      <th></th>\n",
              "      <th></th>\n",
              "      <th></th>\n",
              "    </tr>\n",
              "  </thead>\n",
              "  <tbody>\n",
              "    <tr>\n",
              "      <th rowspan=\"2\" valign=\"top\">A</th>\n",
              "      <th>X1</th>\n",
              "      <td>0</td>\n",
              "      <td>188</td>\n",
              "      <td>323</td>\n",
              "      <td>408</td>\n",
              "      <td>0</td>\n",
              "      <td>0</td>\n",
              "      <td>0</td>\n",
              "      <td>126</td>\n",
              "      <td>336</td>\n",
              "      <td>551</td>\n",
              "      <td>...</td>\n",
              "      <td>306</td>\n",
              "      <td>0</td>\n",
              "      <td>0</td>\n",
              "      <td>98</td>\n",
              "      <td>245</td>\n",
              "      <td>622</td>\n",
              "      <td>155</td>\n",
              "      <td>386</td>\n",
              "      <td>0</td>\n",
              "      <td>0</td>\n",
              "    </tr>\n",
              "    <tr>\n",
              "      <th>X2</th>\n",
              "      <td>0</td>\n",
              "      <td>634</td>\n",
              "      <td>549</td>\n",
              "      <td>336</td>\n",
              "      <td>0</td>\n",
              "      <td>0</td>\n",
              "      <td>3243</td>\n",
              "      <td>365</td>\n",
              "      <td>1269</td>\n",
              "      <td>276</td>\n",
              "      <td>...</td>\n",
              "      <td>676</td>\n",
              "      <td>0</td>\n",
              "      <td>0</td>\n",
              "      <td>2020</td>\n",
              "      <td>519</td>\n",
              "      <td>348</td>\n",
              "      <td>2290</td>\n",
              "      <td>520</td>\n",
              "      <td>0</td>\n",
              "      <td>0</td>\n",
              "    </tr>\n",
              "    <tr>\n",
              "      <th rowspan=\"2\" valign=\"top\">B</th>\n",
              "      <th>X1</th>\n",
              "      <td>0</td>\n",
              "      <td>3256</td>\n",
              "      <td>2117</td>\n",
              "      <td>1988</td>\n",
              "      <td>0</td>\n",
              "      <td>0</td>\n",
              "      <td>1110</td>\n",
              "      <td>2002</td>\n",
              "      <td>1865</td>\n",
              "      <td>837</td>\n",
              "      <td>...</td>\n",
              "      <td>617</td>\n",
              "      <td>0</td>\n",
              "      <td>0</td>\n",
              "      <td>2310</td>\n",
              "      <td>2918</td>\n",
              "      <td>1835</td>\n",
              "      <td>1313</td>\n",
              "      <td>789</td>\n",
              "      <td>0</td>\n",
              "      <td>0</td>\n",
              "    </tr>\n",
              "    <tr>\n",
              "      <th>X2</th>\n",
              "      <td>0</td>\n",
              "      <td>3356</td>\n",
              "      <td>3572</td>\n",
              "      <td>4272</td>\n",
              "      <td>0</td>\n",
              "      <td>0</td>\n",
              "      <td>2598</td>\n",
              "      <td>3317</td>\n",
              "      <td>3897</td>\n",
              "      <td>3790</td>\n",
              "      <td>...</td>\n",
              "      <td>4023</td>\n",
              "      <td>0</td>\n",
              "      <td>0</td>\n",
              "      <td>4137</td>\n",
              "      <td>3008</td>\n",
              "      <td>2799</td>\n",
              "      <td>3327</td>\n",
              "      <td>1454</td>\n",
              "      <td>0</td>\n",
              "      <td>0</td>\n",
              "    </tr>\n",
              "    <tr>\n",
              "      <th>C</th>\n",
              "      <th>X1</th>\n",
              "      <td>0</td>\n",
              "      <td>15</td>\n",
              "      <td>0</td>\n",
              "      <td>12</td>\n",
              "      <td>0</td>\n",
              "      <td>0</td>\n",
              "      <td>1</td>\n",
              "      <td>0</td>\n",
              "      <td>2</td>\n",
              "      <td>0</td>\n",
              "      <td>...</td>\n",
              "      <td>0</td>\n",
              "      <td>0</td>\n",
              "      <td>0</td>\n",
              "      <td>19</td>\n",
              "      <td>0</td>\n",
              "      <td>30</td>\n",
              "      <td>0</td>\n",
              "      <td>3</td>\n",
              "      <td>0</td>\n",
              "      <td>0</td>\n",
              "    </tr>\n",
              "    <tr>\n",
              "      <th rowspan=\"2\" valign=\"top\">D</th>\n",
              "      <th>X1</th>\n",
              "      <td>0</td>\n",
              "      <td>865</td>\n",
              "      <td>564</td>\n",
              "      <td>800</td>\n",
              "      <td>0</td>\n",
              "      <td>0</td>\n",
              "      <td>84</td>\n",
              "      <td>289</td>\n",
              "      <td>337</td>\n",
              "      <td>994</td>\n",
              "      <td>...</td>\n",
              "      <td>430</td>\n",
              "      <td>0</td>\n",
              "      <td>0</td>\n",
              "      <td>107</td>\n",
              "      <td>463</td>\n",
              "      <td>1341</td>\n",
              "      <td>845</td>\n",
              "      <td>1465</td>\n",
              "      <td>0</td>\n",
              "      <td>0</td>\n",
              "    </tr>\n",
              "    <tr>\n",
              "      <th>X2</th>\n",
              "      <td>0</td>\n",
              "      <td>6914</td>\n",
              "      <td>10349</td>\n",
              "      <td>9115</td>\n",
              "      <td>0</td>\n",
              "      <td>0</td>\n",
              "      <td>12858</td>\n",
              "      <td>2793</td>\n",
              "      <td>5692</td>\n",
              "      <td>4685</td>\n",
              "      <td>...</td>\n",
              "      <td>12253</td>\n",
              "      <td>48</td>\n",
              "      <td>48</td>\n",
              "      <td>2457</td>\n",
              "      <td>3571</td>\n",
              "      <td>43417</td>\n",
              "      <td>7987</td>\n",
              "      <td>4575</td>\n",
              "      <td>0</td>\n",
              "      <td>0</td>\n",
              "    </tr>\n",
              "    <tr>\n",
              "      <th rowspan=\"2\" valign=\"top\">E</th>\n",
              "      <th>X1</th>\n",
              "      <td>0</td>\n",
              "      <td>2028</td>\n",
              "      <td>4240</td>\n",
              "      <td>1863</td>\n",
              "      <td>0</td>\n",
              "      <td>0</td>\n",
              "      <td>440</td>\n",
              "      <td>1583</td>\n",
              "      <td>1666</td>\n",
              "      <td>1885</td>\n",
              "      <td>...</td>\n",
              "      <td>1537</td>\n",
              "      <td>0</td>\n",
              "      <td>0</td>\n",
              "      <td>739</td>\n",
              "      <td>4062</td>\n",
              "      <td>5094</td>\n",
              "      <td>2539</td>\n",
              "      <td>2072</td>\n",
              "      <td>0</td>\n",
              "      <td>0</td>\n",
              "    </tr>\n",
              "    <tr>\n",
              "      <th>X2</th>\n",
              "      <td>0</td>\n",
              "      <td>9933</td>\n",
              "      <td>11858</td>\n",
              "      <td>16904</td>\n",
              "      <td>0</td>\n",
              "      <td>48</td>\n",
              "      <td>25365</td>\n",
              "      <td>5820</td>\n",
              "      <td>13085</td>\n",
              "      <td>6455</td>\n",
              "      <td>...</td>\n",
              "      <td>8965</td>\n",
              "      <td>48</td>\n",
              "      <td>384</td>\n",
              "      <td>6775</td>\n",
              "      <td>8013</td>\n",
              "      <td>21153</td>\n",
              "      <td>20746</td>\n",
              "      <td>10070</td>\n",
              "      <td>364</td>\n",
              "      <td>480</td>\n",
              "    </tr>\n",
              "    <tr>\n",
              "      <th rowspan=\"2\" valign=\"top\">F</th>\n",
              "      <th>X1</th>\n",
              "      <td>0</td>\n",
              "      <td>0</td>\n",
              "      <td>0</td>\n",
              "      <td>0</td>\n",
              "      <td>0</td>\n",
              "      <td>0</td>\n",
              "      <td>0</td>\n",
              "      <td>0</td>\n",
              "      <td>0</td>\n",
              "      <td>0</td>\n",
              "      <td>...</td>\n",
              "      <td>0</td>\n",
              "      <td>0</td>\n",
              "      <td>0</td>\n",
              "      <td>87</td>\n",
              "      <td>0</td>\n",
              "      <td>289</td>\n",
              "      <td>104</td>\n",
              "      <td>35</td>\n",
              "      <td>0</td>\n",
              "      <td>0</td>\n",
              "    </tr>\n",
              "    <tr>\n",
              "      <th>X2</th>\n",
              "      <td>0</td>\n",
              "      <td>0</td>\n",
              "      <td>0</td>\n",
              "      <td>0</td>\n",
              "      <td>0</td>\n",
              "      <td>0</td>\n",
              "      <td>0</td>\n",
              "      <td>0</td>\n",
              "      <td>0</td>\n",
              "      <td>0</td>\n",
              "      <td>...</td>\n",
              "      <td>0</td>\n",
              "      <td>0</td>\n",
              "      <td>232</td>\n",
              "      <td>25</td>\n",
              "      <td>65</td>\n",
              "      <td>422</td>\n",
              "      <td>1159</td>\n",
              "      <td>290</td>\n",
              "      <td>7</td>\n",
              "      <td>0</td>\n",
              "    </tr>\n",
              "    <tr>\n",
              "      <th>G</th>\n",
              "      <th>X2</th>\n",
              "      <td>0</td>\n",
              "      <td>0</td>\n",
              "      <td>0</td>\n",
              "      <td>0</td>\n",
              "      <td>0</td>\n",
              "      <td>0</td>\n",
              "      <td>0</td>\n",
              "      <td>0</td>\n",
              "      <td>0</td>\n",
              "      <td>624</td>\n",
              "      <td>...</td>\n",
              "      <td>0</td>\n",
              "      <td>0</td>\n",
              "      <td>0</td>\n",
              "      <td>0</td>\n",
              "      <td>0</td>\n",
              "      <td>193</td>\n",
              "      <td>720</td>\n",
              "      <td>48</td>\n",
              "      <td>0</td>\n",
              "      <td>0</td>\n",
              "    </tr>\n",
              "    <tr>\n",
              "      <th>H</th>\n",
              "      <th>X2</th>\n",
              "      <td>0</td>\n",
              "      <td>202</td>\n",
              "      <td>55</td>\n",
              "      <td>6</td>\n",
              "      <td>18</td>\n",
              "      <td>0</td>\n",
              "      <td>258</td>\n",
              "      <td>15</td>\n",
              "      <td>2</td>\n",
              "      <td>13</td>\n",
              "      <td>...</td>\n",
              "      <td>0</td>\n",
              "      <td>0</td>\n",
              "      <td>90</td>\n",
              "      <td>0</td>\n",
              "      <td>0</td>\n",
              "      <td>137</td>\n",
              "      <td>0</td>\n",
              "      <td>1</td>\n",
              "      <td>0</td>\n",
              "      <td>0</td>\n",
              "    </tr>\n",
              "  </tbody>\n",
              "</table>\n",
              "<p>13 rows × 90 columns</p>\n",
              "</div>\n",
              "      <button class=\"colab-df-convert\" onclick=\"convertToInteractive('df-725428a5-76ce-4953-895e-1f2da938c3e6')\"\n",
              "              title=\"Convert this dataframe to an interactive table.\"\n",
              "              style=\"display:none;\">\n",
              "        \n",
              "  <svg xmlns=\"http://www.w3.org/2000/svg\" height=\"24px\"viewBox=\"0 0 24 24\"\n",
              "       width=\"24px\">\n",
              "    <path d=\"M0 0h24v24H0V0z\" fill=\"none\"/>\n",
              "    <path d=\"M18.56 5.44l.94 2.06.94-2.06 2.06-.94-2.06-.94-.94-2.06-.94 2.06-2.06.94zm-11 1L8.5 8.5l.94-2.06 2.06-.94-2.06-.94L8.5 2.5l-.94 2.06-2.06.94zm10 10l.94 2.06.94-2.06 2.06-.94-2.06-.94-.94-2.06-.94 2.06-2.06.94z\"/><path d=\"M17.41 7.96l-1.37-1.37c-.4-.4-.92-.59-1.43-.59-.52 0-1.04.2-1.43.59L10.3 9.45l-7.72 7.72c-.78.78-.78 2.05 0 2.83L4 21.41c.39.39.9.59 1.41.59.51 0 1.02-.2 1.41-.59l7.78-7.78 2.81-2.81c.8-.78.8-2.07 0-2.86zM5.41 20L4 18.59l7.72-7.72 1.47 1.35L5.41 20z\"/>\n",
              "  </svg>\n",
              "      </button>\n",
              "      \n",
              "  <style>\n",
              "    .colab-df-container {\n",
              "      display:flex;\n",
              "      flex-wrap:wrap;\n",
              "      gap: 12px;\n",
              "    }\n",
              "\n",
              "    .colab-df-convert {\n",
              "      background-color: #E8F0FE;\n",
              "      border: none;\n",
              "      border-radius: 50%;\n",
              "      cursor: pointer;\n",
              "      display: none;\n",
              "      fill: #1967D2;\n",
              "      height: 32px;\n",
              "      padding: 0 0 0 0;\n",
              "      width: 32px;\n",
              "    }\n",
              "\n",
              "    .colab-df-convert:hover {\n",
              "      background-color: #E2EBFA;\n",
              "      box-shadow: 0px 1px 2px rgba(60, 64, 67, 0.3), 0px 1px 3px 1px rgba(60, 64, 67, 0.15);\n",
              "      fill: #174EA6;\n",
              "    }\n",
              "\n",
              "    [theme=dark] .colab-df-convert {\n",
              "      background-color: #3B4455;\n",
              "      fill: #D2E3FC;\n",
              "    }\n",
              "\n",
              "    [theme=dark] .colab-df-convert:hover {\n",
              "      background-color: #434B5C;\n",
              "      box-shadow: 0px 1px 3px 1px rgba(0, 0, 0, 0.15);\n",
              "      filter: drop-shadow(0px 1px 2px rgba(0, 0, 0, 0.3));\n",
              "      fill: #FFFFFF;\n",
              "    }\n",
              "  </style>\n",
              "\n",
              "      <script>\n",
              "        const buttonEl =\n",
              "          document.querySelector('#df-725428a5-76ce-4953-895e-1f2da938c3e6 button.colab-df-convert');\n",
              "        buttonEl.style.display =\n",
              "          google.colab.kernel.accessAllowed ? 'block' : 'none';\n",
              "\n",
              "        async function convertToInteractive(key) {\n",
              "          const element = document.querySelector('#df-725428a5-76ce-4953-895e-1f2da938c3e6');\n",
              "          const dataTable =\n",
              "            await google.colab.kernel.invokeFunction('convertToInteractive',\n",
              "                                                     [key], {});\n",
              "          if (!dataTable) return;\n",
              "\n",
              "          const docLinkHtml = 'Like what you see? Visit the ' +\n",
              "            '<a target=\"_blank\" href=https://colab.research.google.com/notebooks/data_table.ipynb>data table notebook</a>'\n",
              "            + ' to learn more about interactive tables.';\n",
              "          element.innerHTML = '';\n",
              "          dataTable['output_type'] = 'display_data';\n",
              "          await google.colab.output.renderOutput(dataTable, element);\n",
              "          const docLink = document.createElement('div');\n",
              "          docLink.innerHTML = docLinkHtml;\n",
              "          element.appendChild(docLink);\n",
              "        }\n",
              "      </script>\n",
              "    </div>\n",
              "  </div>\n",
              "  "
            ]
          },
          "metadata": {},
          "execution_count": 5
        }
      ]
    },
    {
      "cell_type": "markdown",
      "source": [
        "#Environment"
      ],
      "metadata": {
        "id": "5ll8YA2z0cmv"
      }
    },
    {
      "cell_type": "code",
      "source": [
        "class Inventory(gym.Env):\n",
        "  interval=0\n",
        "  forecast=[]\n",
        "  def __init__(self,leading_time,demand_list,space,emergency,holding_cost,trans_con=20,trans_unit=0.02,revenue=5):\n",
        "    global interval\n",
        "    global forecast\n",
        "    interval=leading_time\n",
        "    forecast=demand_list\n",
        "    self.inv=0\n",
        "    self.holding_cost=holding_cost\n",
        "    self.trans_con=trans_con\n",
        "    self.trans_unit=trans_unit\n",
        "    self.queue=[0]*interval\n",
        "    self.plan=forecast\n",
        "    self.action_space=space\n",
        "    self.revenue=revenue\n",
        "    self.emergency=emergency\n",
        "    self.penalty=0\n",
        "    \n",
        "  def add(self,amount):\n",
        "    self.inv=self.queue[0]\n",
        "    self.queue=self.queue[1:]+[amount]\n",
        "\n",
        "  def send(self,amount):\n",
        "    if self.inv>amount:\n",
        "      self.inv-=amount\n",
        "      return False #have enough stock\n",
        "    else:\n",
        "      self.inv=0\n",
        "      #print(\"the inventory is not enough\")\n",
        "      return True #bankrupt\n",
        "\n",
        "  def reset(self):\n",
        "    self.inv=0\n",
        "    self.queue=[0]*interval\n",
        "    self.plan=forecast\n",
        "    self.penalty=0\n",
        "    return np.array([self.inv,np.sum(self.queue)])\n",
        "\n",
        "  def select_action(self):\n",
        "    if np.random.random()<self.emergency:\n",
        "      demand=np.random.normal(np.mean(forecast),np.std(forecast))\n",
        "    else:\n",
        "      demand=self.plan[0]\n",
        "    return demand\n",
        "\n",
        "  def step(self,action):\n",
        "    new_state = None\n",
        "    state = np.array([self.inv, np.sum(self.queue)])\n",
        "    done = False\n",
        "    reward=0\n",
        "    if action not in self.action_space:\n",
        "      done=True\n",
        "      print(\"action is not allowed\")\n",
        "    else:\n",
        "      if action!=0:\n",
        "        reward=self.trans_con\n",
        "\n",
        "      self.add(action)\n",
        "      current=self.inv\n",
        "\n",
        "      demand=self.select_action()\n",
        "      bankrupt=self.send(demand)\n",
        "      self.plan=self.plan[1:]\n",
        "\n",
        "      if len(self.plan)==1:\n",
        "        done=True\n",
        "      if bankrupt:\n",
        "        reward+=self.trans_unit*action+self.holding_cost*self.inv+self.revenue*abs(demand-current)\n",
        "        self.penalty+=self.revenue*np.abs(demand-current)\n",
        "      else:\n",
        "        reward+=self.trans_unit*action+self.holding_cost*self.inv\n",
        "\n",
        "    new_state=np.array([self.inv,np.sum(self.queue)])\n",
        "    return state,-reward,new_state,done\n",
        "    "
      ],
      "metadata": {
        "id": "zp_zs3FGWfIV"
      },
      "execution_count": 6,
      "outputs": []
    },
    {
      "cell_type": "markdown",
      "source": [
        "#Benchmark & Goal"
      ],
      "metadata": {
        "id": "a0WdvZOL1Wvh"
      }
    },
    {
      "cell_type": "code",
      "source": [
        "def Benchmark(env):\n",
        "  goal_total_reward=0\n",
        "  goal_done=False\n",
        "  \n",
        "  penalty=0\n",
        "  \n",
        "  while not goal_done:\n",
        "    minus=np.abs(np.asarray(env.action_space)-np.mean(env.plan)).tolist()\n",
        "    id=minus.index(min(minus))\n",
        "    goal_action=env.action_space[id] \n",
        "    goal_state, goal_reward, goal_new_state,goal_done= env.step(goal_action)\n",
        "    goal_total_reward+=goal_reward\n",
        "    \n",
        "  penalty=env.penalty\n",
        "  goal_state=env.reset()\n",
        "  return goal_total_reward,penalty\n",
        "def Goal(env):\n",
        "  goal_reward=0\n",
        "  done=False\n",
        "  penalty=0\n",
        "  while not done:\n",
        "    try:\n",
        "      minus=np.abs(np.asarray(env.action_space)-env.plan[leading_time]).tolist()\n",
        "      id=minus.index((min(minus)))\n",
        "      action=env.action_space[id]\n",
        "    except:\n",
        "      action=0\n",
        "    \n",
        "    state, reward, new_state,done= env.step(action)\n",
        "    goal_reward+=reward\n",
        "  penalty=env.penalty\n",
        "  goal_state=env.reset()\n",
        "  return goal_reward,penalty"
      ],
      "metadata": {
        "id": "d4Q8dMr1ZQXQ"
      },
      "execution_count": 7,
      "outputs": []
    },
    {
      "cell_type": "markdown",
      "source": [
        "#Dueling DQN"
      ],
      "metadata": {
        "id": "SZeSmwKEW6Z3"
      }
    },
    {
      "cell_type": "code",
      "source": [
        "class ReplayBuffer:\n",
        "    def __init__(self, capacity):\n",
        "        self.buffer = collections.deque(maxlen=capacity) \n",
        "\n",
        "    def add(self, state, action, reward, next_state, done): \n",
        "        self.buffer.append((state, action, reward, next_state, done)) \n",
        "\n",
        "    def sample(self, batch_size): \n",
        "        transitions = random.sample(self.buffer, batch_size)\n",
        "        state, action, reward, next_state, done = zip(*transitions)\n",
        "        return np.array(state), action, reward, np.array(next_state), done \n",
        "\n",
        "    def size(self): \n",
        "        return len(self.buffer)\n",
        "\n",
        "def moving_average(a, window_size):\n",
        "    cumulative_sum = np.cumsum(np.insert(a, 0, 0)) \n",
        "    middle = (cumulative_sum[window_size:] - cumulative_sum[:-window_size]) / window_size\n",
        "    r = np.arange(1, window_size-1, 2)\n",
        "    begin = np.cumsum(a[:window_size-1])[::2] / r\n",
        "    end = (np.cumsum(a[:-window_size:-1])[::2] / r)[::-1]\n",
        "    return np.concatenate((begin, middle, end))\n",
        "\n",
        "def train_on_policy_agent(env, agent, num_episodes):\n",
        "    return_list = []\n",
        "\n",
        "    for i_episode in range(int(num_episodes)):\n",
        "        episode_return = 0\n",
        "        transition_dict = {'states': [], 'actions': [], 'next_states': [], 'rewards': [], 'dones': []}\n",
        "        state = env.reset()\n",
        "        done = False\n",
        "        while not done:\n",
        "            action = agent.take_action(state)\n",
        "            next_state, reward, done, _ = env.step(action)\n",
        "            transition_dict['states'].append(state)\n",
        "            transition_dict['actions'].append(action)\n",
        "            transition_dict['next_states'].append(next_state)\n",
        "            transition_dict['rewards'].append(reward)\n",
        "            transition_dict['dones'].append(done)\n",
        "            state = next_state\n",
        "            episode_return += reward\n",
        "        return_list.append(episode_return)\n",
        "        agent.update(transition_dict)\n",
        "\n",
        "    return return_list\n",
        "\n",
        "def train_off_policy_agent(env, agent, num_episodes, replay_buffer, minimal_size, batch_size):\n",
        "    return_list = []\n",
        " \n",
        "    for i_episode in range(int(num_episodes)):\n",
        "        episode_return = 0\n",
        "        state = env.reset()\n",
        "        done = False\n",
        "        while not done:\n",
        "            action = agent.take_action(state)\n",
        "            next_state, reward, done, _ = env.step(action)\n",
        "            replay_buffer.add(state, action, reward, next_state, done)\n",
        "            state = next_state\n",
        "            episode_return += reward\n",
        "            if replay_buffer.size() > minimal_size:\n",
        "                b_s, b_a, b_r, b_ns, b_d = replay_buffer.sample(batch_size)\n",
        "                transition_dict = {'states': b_s, 'actions': b_a, 'next_states': b_ns, 'rewards': b_r, 'dones': b_d}\n",
        "                agent.update(transition_dict)\n",
        "        return_list.append(episode_return)\n",
        "\n",
        "          \n",
        "    return return_list\n",
        "\n",
        "\n",
        "def compute_advantage(gamma, lmbda, td_delta):\n",
        "    td_delta = td_delta.detach().numpy()\n",
        "    advantage_list = []\n",
        "    advantage = 0.0\n",
        "    for delta in td_delta[::-1]:\n",
        "        advantage = gamma * lmbda * advantage + delta\n",
        "        advantage_list.append(advantage)\n",
        "    advantage_list.reverse()\n",
        "    return torch.tensor(advantage_list, dtype=torch.float)"
      ],
      "metadata": {
        "id": "1LI8zbi2WihO"
      },
      "execution_count": 8,
      "outputs": []
    },
    {
      "cell_type": "code",
      "source": [
        "class VAnet(torch.nn.Module):\n",
        "    def __init__(self, state_dim, hidden_dim, action_dim):\n",
        "        super(VAnet, self).__init__()\n",
        "\n",
        "        self.fc1=nn.Sequential(\n",
        "            nn.Linear(state_dim, 128),\n",
        "            nn.ReLU(),\n",
        "            nn.Linear(128, 128),\n",
        "            nn.ReLU(),\n",
        "            nn.Linear(128, hidden_dim)\n",
        "        ) # 共享网络部分\n",
        "\n",
        "        self.fc_A = nn.Sequential(\n",
        "            nn.Linear(hidden_dim,64 ),\n",
        "            nn.ReLU(),\n",
        "            nn.Linear(64, 64),\n",
        "            nn.ReLU(),\n",
        "            nn.Linear(64, action_dim)\n",
        "        ) \n",
        "        self.fc_V = nn.Sequential(\n",
        "            nn.Linear(hidden_dim,64),\n",
        "            nn.ReLU(),\n",
        "            nn.Linear(64, 64),\n",
        "            nn.ReLU(),\n",
        "            nn.Linear(64, 1)\n",
        "        ) \n",
        "\n",
        "    def forward(self, x):\n",
        "        A = self.fc_A(F.relu(self.fc1(x)))\n",
        "        V = self.fc_V(F.relu(self.fc1(x)))\n",
        "        Q = V + A - A.mean(1).view(-1, 1)  # Q值由V值和A值计算得到\n",
        "        return Q\n",
        "\n",
        "\n",
        "class DQN:\n",
        "    ''' DQN算法,包括Double DQN和Dueling DQN '''\n",
        "    def __init__(self,\n",
        "                 state_dim,\n",
        "                 hidden_dim,\n",
        "                 action_dim,\n",
        "                 learning_rate,\n",
        "                 gamma,\n",
        "                 epsilon,\n",
        "                 target_update,\n",
        "                 device,\n",
        "                 dqn_type='VanillaDQN'):\n",
        "        self.action_dim = action_dim\n",
        "        if dqn_type == 'DuelingDQN':  # Dueling DQN采取不一样的网络框架\n",
        "            self.q_net = VAnet(state_dim, hidden_dim,\n",
        "                               self.action_dim).to(device)\n",
        "            self.target_q_net = VAnet(state_dim, hidden_dim,\n",
        "                                      self.action_dim).to(device)\n",
        "        else:\n",
        "            self.q_net = Qnet(state_dim, hidden_dim,\n",
        "                              self.action_dim).to(device)\n",
        "            self.target_q_net = Qnet(state_dim, hidden_dim,\n",
        "                                     self.action_dim).to(device)\n",
        "        self.optimizer = torch.optim.Adam(self.q_net.parameters(),\n",
        "                                          lr=learning_rate)\n",
        "        self.gamma = gamma\n",
        "        self.epsilon = epsilon\n",
        "        self.target_update = target_update\n",
        "        self.count = 0\n",
        "        self.dqn_type = dqn_type\n",
        "        self.device = device\n",
        "\n",
        "    def take_action(self, state):\n",
        "        if np.random.random() < self.epsilon:\n",
        "            action = np.random.randint(self.action_dim)\n",
        "           # print(\"1111----11111\")\n",
        "        else:\n",
        "            state = torch.tensor([state], dtype=torch.float).to(self.device)\n",
        "            action = self.q_net(state).argmax().item()\n",
        "           # print(\"2222-----22222\")\n",
        "        return action\n",
        "\n",
        "    def max_q_value(self, state):\n",
        "        state = torch.tensor([state], dtype=torch.float).to(self.device)\n",
        "        return self.q_net(state).max().item()\n",
        "\n",
        "    def update(self, transition_dict):\n",
        "        states = torch.tensor(transition_dict['states'],\n",
        "                              dtype=torch.float).to(self.device)\n",
        "        actions = torch.tensor(transition_dict['actions']).view(-1, 1).to(\n",
        "            self.device)\n",
        "        rewards = torch.tensor(transition_dict['rewards'],\n",
        "                               dtype=torch.float).view(-1, 1).to(self.device)\n",
        "        next_states = torch.tensor(transition_dict['next_states'],\n",
        "                                   dtype=torch.float).to(self.device)\n",
        "        dones = torch.tensor(transition_dict['dones'],\n",
        "                             dtype=torch.float).view(-1, 1).to(self.device)\n",
        "        #print(len(states))\n",
        "\n",
        "\n",
        "        q_values = self.q_net(states).gather(1, actions)\n",
        "\n",
        "\n",
        "        if self.dqn_type == 'DoubleDQN':\n",
        "            max_action = self.q_net(next_states).max(1)[1].view(-1, 1)\n",
        "            max_next_q_values = self.target_q_net(next_states).gather(\n",
        "                1, max_action)\n",
        "        else:\n",
        "            max_next_q_values = self.target_q_net(next_states).max(1)[0].view(\n",
        "                -1, 1)\n",
        "        q_targets = rewards + self.gamma * max_next_q_values * (1 - dones)\n",
        "        dqn_loss = torch.mean(F.mse_loss(q_values, q_targets))\n",
        "        self.optimizer.zero_grad()\n",
        "        dqn_loss.backward()\n",
        "        self.optimizer.step()\n",
        "\n",
        "        if self.count % self.target_update == 0:\n",
        "            self.target_q_net.load_state_dict(self.q_net.state_dict())\n",
        "        self.count += 1\n",
        "    def save_pass_models(self,num):\n",
        "        path='/content/drive/MyDrive/Model/Pass/pass_model('+str(num)+').pt'\n",
        "        torch.save(self.q_net.state_dict(),path)\n",
        "\n",
        "\n",
        "    def save_great_models(self,title):\n",
        "        path='/content/drive/MyDrive/Models/Great/great_model('+str(title)+').pt'\n",
        "        torch.save(self.q_net.state_dict(),path)\n",
        " \n",
        "    \n",
        "        \n",
        "\n"
      ],
      "metadata": {
        "id": "4ywZTl_gXA3v"
      },
      "execution_count": 9,
      "outputs": []
    },
    {
      "cell_type": "code",
      "source": [
        "def train_DQN(agent, env, num_episodes, replay_buffer, minimal_size,batch_size,bench_mark,goal,title):\n",
        "    return_list = []\n",
        "    max_q_value_list = []\n",
        "    max_q_value = 0\n",
        "    pass_list=[]\n",
        "    great_list=[]\n",
        "    x=0\n",
        "    max=goal\n",
        "    for i in range(10):\n",
        "        with tqdm(total=int(num_episodes / 10),\n",
        "                  desc='Iteration %d' % i) as pbar:\n",
        "            for i_episode in range(int(num_episodes / 10)):\n",
        "                episode_return = 0\n",
        "                state = env.reset()\n",
        "                done = False\n",
        "                while not done:\n",
        "                    #print(state,\"----\")\n",
        "                    action_id = agent.take_action(state)\n",
        "                    \n",
        "                    action=env.action_space[action_id]\n",
        "                    max_q_value = agent.max_q_value(\n",
        "                        state) * 0.005 + max_q_value * 0.995  # 平滑处理\n",
        "                    max_q_value_list.append(max_q_value)  # 保存每个状态的最大Q值\n",
        "                    \n",
        "                    _, reward, next_state,done = env.step(action)\n",
        "                    replay_buffer.add(state, action_id, reward, next_state, done)\n",
        "                    \n",
        "                    state = next_state\n",
        "                    episode_return += reward\n",
        "                    \n",
        "                    if replay_buffer.size() > minimal_size:\n",
        "                        \n",
        "                        b_s, b_a, b_r, b_ns, b_d = replay_buffer.sample(\n",
        "                            batch_size)\n",
        "                        transition_dict = {\n",
        "                            'states': b_s,\n",
        "                            'actions': b_a,\n",
        "                            'next_states': b_ns,\n",
        "                            'rewards': b_r,\n",
        "                            'dones': b_d\n",
        "                        }\n",
        "                        agent.update(transition_dict)\n",
        "                    #print(state,\"!!!!\")\n",
        "                return_list.append(episode_return)\n",
        "                if episode_return>bench_mark:\n",
        "                  #better than bench mark\n",
        "                    pass_list.append(episode_return)\n",
        "\n",
        "                if episode_return>max:\n",
        "                    max=episode_return\n",
        "                    x+=1\n",
        "                    agent.save_great_models(title)\n",
        "                    great_list.append(episode_return)\n",
        "\n",
        "                \n",
        "                if (i_episode + 1) % 10 == 0:\n",
        "                    pbar.set_postfix({\n",
        "                        'episode':\n",
        "                        '%d' % (num_episodes / 10 * i + i_episode + 1),\n",
        "                        'max_return':\n",
        "                        '%.3f' % np.max(return_list[-i_episode:])\n",
        "                    })\n",
        "                pbar.update(1)\n",
        "    return return_list, max_q_value_list,pass_list,great_list"
      ],
      "metadata": {
        "id": "-s2eVikNXjWa"
      },
      "execution_count": 10,
      "outputs": []
    },
    {
      "cell_type": "markdown",
      "source": [
        "#Train"
      ],
      "metadata": {
        "id": "xJKuu5olyXiI"
      }
    },
    {
      "cell_type": "code",
      "source": [
        "def space_selct(test,leading_time,quantile):\n",
        "\n",
        "  sum=[]\n",
        "  j=0\n",
        "  action=[]\n",
        "\n",
        "  for i in range(len(test)):\n",
        "    for length in range(leading_time):\n",
        "      total=0\n",
        "      if i+length<len(test):\n",
        "        for j in range(length):\n",
        "          total+=test[i+j]\n",
        "        sum.append(total)\n",
        "\n",
        "  a=np.mean(sum)\n",
        "  x=int(a/20)\n",
        "  for i in range(quantile):\n",
        "    #a=int(np.percentile(np.array(sum),i*100/quantile))\n",
        "    \n",
        "    action.append(x*i)\n",
        "  return action\n",
        "\n",
        "    \n",
        "    "
      ],
      "metadata": {
        "id": "15sg9NpTHosa"
      },
      "execution_count": 11,
      "outputs": []
    },
    {
      "cell_type": "code",
      "source": [
        "lr = .25e-3\n",
        "num_episodes = 1000\n",
        "hidden_dim = 128\n",
        "gamma = 0.99\n",
        "epsilon = 0.01\n",
        "target_update = 50\n",
        "buffer_size = 50000\n",
        "minimal_size = 1000\n",
        "batch_size = 64\n",
        "emergency_rate=0.01\n",
        "\n",
        "leading_space=[12,12,12,12,19,12,12,12,12,12,12,12,19]\n",
        "holding_cost=[0.05,0.05,0.1,0.1,0.05,0.1,0.1,0.05,0.05,0.1,0.1,0.05,0.1]\n",
        "index=0\n",
        "\n",
        "for title in pivot_test.index:\n",
        "  if index<0:\n",
        "    continue\n",
        "  \n",
        "  leading_time=leading_space[index]\n",
        "  demand_list=pivot_test.loc[title]\n",
        "  space=space_selct(demand_list,leading_time,20)\n",
        "\n",
        "\n",
        "  env=Inventory(leading_time,demand_list,space,emergency_rate,holding_cost[index])\n",
        "  bench,ben_pen=Benchmark(env)\n",
        "  goal,goal_pen=Goal(env)\n",
        "\n",
        "  device = torch.device(\"cuda\") if torch.cuda.is_available() else torch.device(\"cpu\")\n",
        "  state_dim = 2\n",
        "  action_dim = len(env.action_space)\n",
        "\n",
        "  random.seed(0)\n",
        "  np.random.seed(0)\n",
        "\n",
        "\n",
        "  torch.manual_seed(0)\n",
        "\n",
        "  replay_buffer =ReplayBuffer(buffer_size)\n",
        "\n",
        "  agent = DQN(state_dim, hidden_dim, action_dim, lr, gamma, epsilon,\n",
        "              target_update, device, 'DuelingDQN')\n",
        "  return_list, max_q_value_list,pass_list,great_list = train_DQN(agent, env, num_episodes,replay_buffer, minimal_size,batch_size,bench,goal,title)\n",
        "\n",
        "  episodes_list = list(range(len(return_list)))\n",
        "  mv_return = moving_average(return_list, 5)\n",
        "  plt.plot(episodes_list, mv_return)\n",
        "  plt.title(str(title))\n",
        "  plt.xlabel('Episodes')\n",
        "  plt.ylabel('Returns')\n",
        "\n",
        "  plt.show()\n",
        "\n",
        "  frames_list = list(range(len(max_q_value_list)))\n",
        "  plt.plot(frames_list, max_q_value_list)\n",
        "  plt.axhline(0, c='orange', ls='--')\n",
        "  plt.axhline(10, c='red', ls='--')\n",
        "  plt.title(str(title))\n",
        "  plt.xlabel('Frames')\n",
        "  plt.ylabel('Q value')\n",
        "\n",
        "  plt.show()\n",
        "  index+=1\n"
      ],
      "metadata": {
        "colab": {
          "base_uri": "https://localhost:8080/",
          "height": 1000
        },
        "id": "K3sk3e0qXlbB",
        "outputId": "b9d9b6e0-94e7-45e4-f458-d12857956a9d"
      },
      "execution_count": null,
      "outputs": [
        {
          "metadata": {
            "tags": null
          },
          "name": "stderr",
          "output_type": "stream",
          "text": [
            "Iteration 0:   0%|          | 0/500 [00:00<?, ?it/s]/usr/local/lib/python3.7/dist-packages/ipykernel_launcher.py:72: UserWarning: Creating a tensor from a list of numpy.ndarrays is extremely slow. Please consider converting the list to a single numpy.ndarray with numpy.array() before converting to a tensor. (Triggered internally at  ../torch/csrc/utils/tensor_new.cpp:201.)\n",
            "Iteration 0: 100%|██████████| 500/500 [06:13<00:00,  1.34it/s, episode=500, max_return=-15558.466]\n",
            "Iteration 1: 100%|██████████| 500/500 [06:07<00:00,  1.36it/s, episode=1000, max_return=-18766.020]\n",
            "Iteration 2: 100%|██████████| 500/500 [06:11<00:00,  1.35it/s, episode=1500, max_return=-22945.620]\n",
            "Iteration 3: 100%|██████████| 500/500 [06:09<00:00,  1.35it/s, episode=2000, max_return=-23306.640]\n",
            "Iteration 4: 100%|██████████| 500/500 [06:07<00:00,  1.36it/s, episode=2500, max_return=-31651.556]\n",
            "Iteration 5: 100%|██████████| 500/500 [06:07<00:00,  1.36it/s, episode=3000, max_return=-23324.988]\n",
            "Iteration 6: 100%|██████████| 500/500 [06:06<00:00,  1.37it/s, episode=3500, max_return=-25635.374]\n",
            "Iteration 7: 100%|██████████| 500/500 [06:05<00:00,  1.37it/s, episode=4000, max_return=-29619.208]\n",
            "Iteration 8: 100%|██████████| 500/500 [06:06<00:00,  1.36it/s, episode=4500, max_return=-32228.196]\n",
            "Iteration 9: 100%|██████████| 500/500 [06:09<00:00,  1.35it/s, episode=5000, max_return=-34160.514]\n"
          ]
        },
        {
          "data": {
            "image/png": "[encoded data removed]",
            "text/plain": [
              "<Figure size 432x288 with 1 Axes>"
            ]
          },
          "metadata": {},
          "output_type": "display_data"
        },
        {
          "data": {
            "image/png": "[encoded data removed]",
            "text/plain": [
              "<Figure size 432x288 with 1 Axes>"
            ]
          },
          "metadata": {},
          "output_type": "display_data"
        },
        {
          "metadata": {
            "tags": null
          },
          "name": "stderr",
          "output_type": "stream",
          "text": [
            "Iteration 0: 100%|██████████| 500/500 [06:02<00:00,  1.38it/s, episode=500, max_return=-71916.774]\n",
            "Iteration 1: 100%|██████████| 500/500 [06:12<00:00,  1.34it/s, episode=1000, max_return=-151399.407]\n",
            "Iteration 2: 100%|██████████| 500/500 [06:14<00:00,  1.34it/s, episode=1500, max_return=-69642.220]\n",
            "Iteration 3: 100%|██████████| 500/500 [06:11<00:00,  1.35it/s, episode=2000, max_return=-63800.021]\n",
            "Iteration 4: 100%|██████████| 500/500 [06:10<00:00,  1.35it/s, episode=2500, max_return=-88689.937]\n",
            "Iteration 5: 100%|██████████| 500/500 [06:08<00:00,  1.36it/s, episode=3000, max_return=-91061.390]\n",
            "Iteration 6: 100%|██████████| 500/500 [06:11<00:00,  1.35it/s, episode=3500, max_return=-142583.720]\n",
            "Iteration 7: 100%|██████████| 500/500 [06:12<00:00,  1.34it/s, episode=4000, max_return=-167901.693]\n",
            "Iteration 8: 100%|██████████| 500/500 [06:11<00:00,  1.35it/s, episode=4500, max_return=-191765.420]\n",
            "Iteration 9: 100%|██████████| 500/500 [06:10<00:00,  1.35it/s, episode=5000, max_return=-205859.481]\n"
          ]
        },
        {
          "data": {
            "image/png": "[encoded data removed]",
            "text/plain": [
              "<Figure size 432x288 with 1 Axes>"
            ]
          },
          "metadata": {},
          "output_type": "display_data"
        },
        {
          "data": {
            "image/png": "[encoded data removed]",
            "text/plain": [
              "<Figure size 432x288 with 1 Axes>"
            ]
          },
          "metadata": {},
          "output_type": "display_data"
        },
        {
          "metadata": {
            "tags": null
          },
          "name": "stderr",
          "output_type": "stream",
          "text": [
            "Iteration 0: 100%|██████████| 500/500 [06:00<00:00,  1.39it/s, episode=500, max_return=-92257.443]\n",
            "Iteration 1: 100%|██████████| 500/500 [06:07<00:00,  1.36it/s, episode=1000, max_return=-164631.848]\n",
            "Iteration 2: 100%|██████████| 500/500 [06:12<00:00,  1.34it/s, episode=1500, max_return=-215583.137]\n",
            "Iteration 3: 100%|██████████| 500/500 [06:10<00:00,  1.35it/s, episode=2000, max_return=-235693.563]\n",
            "Iteration 4: 100%|██████████| 500/500 [06:10<00:00,  1.35it/s, episode=2500, max_return=-232273.759]\n",
            "Iteration 5: 100%|██████████| 500/500 [06:13<00:00,  1.34it/s, episode=3000, max_return=-119793.020]\n",
            "Iteration 6: 100%|██████████| 500/500 [06:09<00:00,  1.35it/s, episode=3500, max_return=-81158.556]\n",
            "Iteration 7: 100%|██████████| 500/500 [06:10<00:00,  1.35it/s, episode=4000, max_return=-103849.891]\n",
            "Iteration 8: 100%|██████████| 500/500 [06:10<00:00,  1.35it/s, episode=4500, max_return=-146943.300]\n",
            "Iteration 9: 100%|██████████| 500/500 [06:08<00:00,  1.36it/s, episode=5000, max_return=-152703.921]\n"
          ]
        },
        {
          "data": {
            "image/png": "[encoded data removed]",
            "text/plain": [
              "<Figure size 432x288 with 1 Axes>"
            ]
          },
          "metadata": {},
          "output_type": "display_data"
        },
        {
          "data": {
            "image/png": "[encoded data removed]",
            "text/plain": [
              "<Figure size 432x288 with 1 Axes>"
            ]
          },
          "metadata": {},
          "output_type": "display_data"
        },
        {
          "output_type": "stream",
          "name": "stderr",
          "text": [
            "Iteration 0: 100%|██████████| 500/500 [06:02<00:00,  1.38it/s, episode=500, max_return=-163862.467]\n",
            "Iteration 1: 100%|██████████| 500/500 [06:10<00:00,  1.35it/s, episode=1000, max_return=-199401.417]\n",
            "Iteration 2: 100%|██████████| 500/500 [06:11<00:00,  1.34it/s, episode=1500, max_return=-657014.200]\n",
            "Iteration 3: 100%|██████████| 500/500 [06:08<00:00,  1.36it/s, episode=2000, max_return=-896875.710]\n",
            "Iteration 4: 100%|██████████| 500/500 [06:03<00:00,  1.37it/s, episode=2500, max_return=-897354.888]\n",
            "Iteration 5: 100%|██████████| 500/500 [06:02<00:00,  1.38it/s, episode=3000, max_return=-881728.677]\n",
            "Iteration 6: 100%|██████████| 500/500 [06:04<00:00,  1.37it/s, episode=3500, max_return=-862999.783]\n",
            "Iteration 7:   2%|▏         | 11/500 [00:08<06:14,  1.31it/s, episode=3510, max_return=-962748.900]"
          ]
        }
      ]
    },
    {
      "cell_type": "markdown",
      "source": [
        "#Test"
      ],
      "metadata": {
        "id": "ZVESt1Fw3Eqe"
      }
    },
    {
      "cell_type": "code",
      "source": [
        "def test_DQN(agent,env, num_episodes,goal):\n",
        "    return_list = []\n",
        "    optimal_policy=[]\n",
        "    optimal_inv=[]\n",
        "    penalty=0\n",
        "\n",
        "    max=goal\n",
        "    for i_episode in range(num_episodes):\n",
        "        episode_return = 0\n",
        "        state = env.reset()\n",
        "        done = False\n",
        "        action_list=[]\n",
        "        inventory_list=[]\n",
        "\n",
        "        while not done:\n",
        "            #print(state,\"----\")\n",
        "            action_id = agent.take_action(state)   \n",
        "            action=env.action_space[action_id]\n",
        "            action_list.append(action)\n",
        "            \n",
        "            _, reward, next_state,done = env.step(action)\n",
        "            state = next_state\n",
        "            episode_return += reward\n",
        "            inventory_list.append(state[0])\n",
        "\n",
        "        return_list.append(episode_return)\n",
        "        if episode_return>max:\n",
        "          optimal_policy=action_list.copy()\n",
        "          optimal_inv=inventory_list.copy()\n",
        "          penalty=env.penalty\n",
        "          '''\n",
        "        if (i_episode + 1) % 10 == 0:\n",
        "            print({\n",
        "                'episode':\n",
        "                '%d' % ( i_episode + 1),\n",
        "                'return':\n",
        "                '%.3f' % np.max(return_list[-10:])\n",
        "            })\n",
        "            '''\n",
        "    return return_list,optimal_policy,optimal_inv,penalty"
      ],
      "metadata": {
        "id": "OlwvOT4d7eSo"
      },
      "execution_count": null,
      "outputs": []
    },
    {
      "cell_type": "code",
      "source": [
        "\n",
        "emergency_rate=0.01\n",
        "demand_list=pivot_test.iloc[0,:]\n",
        "device = torch.device(\"cuda\") if torch.cuda.is_available() else torch.device(\"cpu\")\n",
        "\n",
        "leading_space=[12,12,12,12,19,12,12,12,12,12,12,12,19]\n",
        "holding_cost=[0.05,0.05,0.1,0.1,0.05,0.1,0.1,0.05,0.05,0.1,0.1,0.05,0.1]\n",
        "index=0\n",
        "\n",
        "info=pd.DataFrame(columns=['reward','action','inv','penalty','goal','bench','goal_pen','ben_pen'])\n",
        "\n",
        "\n",
        "for title in pivot_test.index:\n",
        "  demand_list=pivot_test.loc[title]\n",
        "  leading_time=leading_space[index]\n",
        "  demand_list=pivot_test.loc[title]\n",
        "  space=space_selct(demand_list,leading_time,20)\n",
        "\n",
        "\n",
        "  env=Inventory(leading_time,demand_list,space,emergency_rate,holding_cost[index])\n",
        "  bench,ben_pen=Benchmark(env)\n",
        "  goal,goal_pen=Goal(env)\n",
        "\n",
        "  state_dim = 2\n",
        "  action_dim = len(env.action_space)\n",
        "\n",
        "  agent1 = DQN(state_dim, hidden_dim, action_dim, lr, gamma, epsilon,\n",
        "              target_update, device, 'DuelingDQN')\n",
        "  agent1.q_net.load_state_dict(torch.load('/content/drive/MyDrive/Models/Great/great_model('+str(title)+').pt'))\n",
        "  agent1.q_net.eval()\n",
        "\n",
        "  return_list,action_list,inv_list,penalty= test_DQN(agent1, env, 50,goal)\n",
        "\n",
        "  info.loc[title]=[return_list,action_list,inv_list,penalty,goal,bench,goal_pen,ben_pen]\n"
      ],
      "metadata": {
        "colab": {
          "base_uri": "https://localhost:8080/",
          "height": 441
        },
        "id": "YT56kvqlDf8X",
        "outputId": "27407509-ec2b-476e-a722-f095188a62ef"
      },
      "execution_count": null,
      "outputs": [
        {
          "output_type": "error",
          "ename": "RuntimeError",
          "evalue": "ignored",
          "traceback": [
            "\u001b[0;31m---------------------------------------------------------------------------\u001b[0m",
            "\u001b[0;31mRuntimeError\u001b[0m                              Traceback (most recent call last)",
            "\u001b[0;32m<ipython-input-108-63683c95451e>\u001b[0m in \u001b[0;36m<module>\u001b[0;34m()\u001b[0m\n\u001b[1;32m     27\u001b[0m   agent1 = DQN(state_dim, hidden_dim, action_dim, lr, gamma, epsilon,\n\u001b[1;32m     28\u001b[0m               target_update, device, 'DuelingDQN')\n\u001b[0;32m---> 29\u001b[0;31m   \u001b[0magent1\u001b[0m\u001b[0;34m.\u001b[0m\u001b[0mq_net\u001b[0m\u001b[0;34m.\u001b[0m\u001b[0mload_state_dict\u001b[0m\u001b[0;34m(\u001b[0m\u001b[0mtorch\u001b[0m\u001b[0;34m.\u001b[0m\u001b[0mload\u001b[0m\u001b[0;34m(\u001b[0m\u001b[0;34m'/content/drive/MyDrive/Models/Great/great_model('\u001b[0m\u001b[0;34m+\u001b[0m\u001b[0mstr\u001b[0m\u001b[0;34m(\u001b[0m\u001b[0mtitle\u001b[0m\u001b[0;34m)\u001b[0m\u001b[0;34m+\u001b[0m\u001b[0;34m').pt'\u001b[0m\u001b[0;34m)\u001b[0m\u001b[0;34m)\u001b[0m\u001b[0;34m\u001b[0m\u001b[0;34m\u001b[0m\u001b[0m\n\u001b[0m\u001b[1;32m     30\u001b[0m   \u001b[0magent1\u001b[0m\u001b[0;34m.\u001b[0m\u001b[0mq_net\u001b[0m\u001b[0;34m.\u001b[0m\u001b[0meval\u001b[0m\u001b[0;34m(\u001b[0m\u001b[0;34m)\u001b[0m\u001b[0;34m\u001b[0m\u001b[0;34m\u001b[0m\u001b[0m\n\u001b[1;32m     31\u001b[0m \u001b[0;34m\u001b[0m\u001b[0m\n",
            "\u001b[0;32m/usr/local/lib/python3.7/dist-packages/torch/nn/modules/module.py\u001b[0m in \u001b[0;36mload_state_dict\u001b[0;34m(self, state_dict, strict)\u001b[0m\n\u001b[1;32m   1603\u001b[0m         \u001b[0;32mif\u001b[0m \u001b[0mlen\u001b[0m\u001b[0;34m(\u001b[0m\u001b[0merror_msgs\u001b[0m\u001b[0;34m)\u001b[0m \u001b[0;34m>\u001b[0m \u001b[0;36m0\u001b[0m\u001b[0;34m:\u001b[0m\u001b[0;34m\u001b[0m\u001b[0;34m\u001b[0m\u001b[0m\n\u001b[1;32m   1604\u001b[0m             raise RuntimeError('Error(s) in loading state_dict for {}:\\n\\t{}'.format(\n\u001b[0;32m-> 1605\u001b[0;31m                                self.__class__.__name__, \"\\n\\t\".join(error_msgs)))\n\u001b[0m\u001b[1;32m   1606\u001b[0m         \u001b[0;32mreturn\u001b[0m \u001b[0m_IncompatibleKeys\u001b[0m\u001b[0;34m(\u001b[0m\u001b[0mmissing_keys\u001b[0m\u001b[0;34m,\u001b[0m \u001b[0munexpected_keys\u001b[0m\u001b[0;34m)\u001b[0m\u001b[0;34m\u001b[0m\u001b[0;34m\u001b[0m\u001b[0m\n\u001b[1;32m   1607\u001b[0m \u001b[0;34m\u001b[0m\u001b[0m\n",
            "\u001b[0;31mRuntimeError\u001b[0m: Error(s) in loading state_dict for VAnet:\n\tsize mismatch for fc_A.4.weight: copying a param with shape torch.Size([9, 64]) from checkpoint, the shape in current model is torch.Size([18, 64]).\n\tsize mismatch for fc_A.4.bias: copying a param with shape torch.Size([9]) from checkpoint, the shape in current model is torch.Size([18])."
          ]
        }
      ]
    },
    {
      "cell_type": "code",
      "source": [
        "a=list(filter(lambda x:x>-goal,return_list))"
      ],
      "metadata": {
        "id": "ql0QBLbD8q_D"
      },
      "execution_count": null,
      "outputs": []
    },
    {
      "cell_type": "code",
      "source": [
        "action_list"
      ],
      "metadata": {
        "id": "qvk55fMKLB3g"
      },
      "execution_count": null,
      "outputs": []
    },
    {
      "cell_type": "code",
      "source": [
        "plt.plot(demand_list.index[0:89],inv_list,label = 'inv')\n",
        "plt.plot(demand_list.index[0:89],action_list,label='action')\n",
        "plt.plot(demand_list.index[0:89],demand_list[0:89],label='demand')\n",
        "plt.plot()\n",
        "plt.legend()"
      ],
      "metadata": {
        "colab": {
          "base_uri": "https://localhost:8080/",
          "height": 283
        },
        "id": "bwaJXwQGIaam",
        "outputId": "49f3b6b8-cf47-438c-c141-523fb27c641c"
      },
      "execution_count": null,
      "outputs": [
        {
          "output_type": "execute_result",
          "data": {
            "text/plain": [
              "<matplotlib.legend.Legend at 0x7f4b35d96750>"
            ]
          },
          "metadata": {},
          "execution_count": 131
        },
        {
          "output_type": "display_data",
          "data": {
            "text/plain": [
              "<Figure size 432x288 with 1 Axes>"
            ],
            "image/png": "[encoded data removed]"
          },
          "metadata": {
            "needs_background": "light"
          }
        }
      ]
    },
    {
      "cell_type": "code",
      "source": [
        "plt.plot(demand_list.index[0:89],demand_list[0:89],label='demand')"
      ],
      "metadata": {
        "colab": {
          "base_uri": "https://localhost:8080/",
          "height": 283
        },
        "id": "WREidaQ8MAVC",
        "outputId": "df06045b-9188-40d3-ca5f-5232da0d634c"
      },
      "execution_count": null,
      "outputs": [
        {
          "output_type": "execute_result",
          "data": {
            "text/plain": [
              "[<matplotlib.lines.Line2D at 0x7f4b35725f50>]"
            ]
          },
          "metadata": {},
          "execution_count": 130
        },
        {
          "output_type": "display_data",
          "data": {
            "text/plain": [
              "<Figure size 432x288 with 1 Axes>"
            ],
            "image/png": "[encoded data removed]"
          },
          "metadata": {
            "needs_background": "light"
          }
        }
      ]
    },
    {
      "cell_type": "code",
      "source": [
        "plt.plot(demand_list.unique()[0:89],label = 'reorder amount')"
      ],
      "metadata": {
        "colab": {
          "base_uri": "https://localhost:8080/",
          "height": 574
        },
        "id": "9epO9BEYETNA",
        "outputId": "8d05b975-0ad1-432e-cc83-5f04ca25258e"
      },
      "execution_count": null,
      "outputs": [
        {
          "output_type": "error",
          "ename": "ValueError",
          "evalue": "ignored",
          "traceback": [
            "\u001b[0;31m---------------------------------------------------------------------------\u001b[0m",
            "\u001b[0;31mValueError\u001b[0m                                Traceback (most recent call last)",
            "\u001b[0;32m<ipython-input-114-41e75e7e41ad>\u001b[0m in \u001b[0;36m<module>\u001b[0;34m()\u001b[0m\n\u001b[0;32m----> 1\u001b[0;31m \u001b[0mplt\u001b[0m\u001b[0;34m.\u001b[0m\u001b[0mplot\u001b[0m\u001b[0;34m(\u001b[0m\u001b[0mdemand_list\u001b[0m\u001b[0;34m.\u001b[0m\u001b[0munique\u001b[0m\u001b[0;34m(\u001b[0m\u001b[0;34m)\u001b[0m\u001b[0;34m[\u001b[0m\u001b[0;36m0\u001b[0m\u001b[0;34m:\u001b[0m\u001b[0;36m89\u001b[0m\u001b[0;34m]\u001b[0m\u001b[0;34m,\u001b[0m \u001b[0maction_list\u001b[0m\u001b[0;34m,\u001b[0m\u001b[0mlabel\u001b[0m \u001b[0;34m=\u001b[0m \u001b[0;34m'reorder amount'\u001b[0m\u001b[0;34m)\u001b[0m\u001b[0;34m\u001b[0m\u001b[0;34m\u001b[0m\u001b[0m\n\u001b[0m",
            "\u001b[0;32m/usr/local/lib/python3.7/dist-packages/matplotlib/pyplot.py\u001b[0m in \u001b[0;36mplot\u001b[0;34m(scalex, scaley, data, *args, **kwargs)\u001b[0m\n\u001b[1;32m   2761\u001b[0m     return gca().plot(\n\u001b[1;32m   2762\u001b[0m         *args, scalex=scalex, scaley=scaley, **({\"data\": data} if data\n\u001b[0;32m-> 2763\u001b[0;31m         is not None else {}), **kwargs)\n\u001b[0m\u001b[1;32m   2764\u001b[0m \u001b[0;34m\u001b[0m\u001b[0m\n\u001b[1;32m   2765\u001b[0m \u001b[0;34m\u001b[0m\u001b[0m\n",
            "\u001b[0;32m/usr/local/lib/python3.7/dist-packages/matplotlib/axes/_axes.py\u001b[0m in \u001b[0;36mplot\u001b[0;34m(self, scalex, scaley, data, *args, **kwargs)\u001b[0m\n\u001b[1;32m   1645\u001b[0m         \"\"\"\n\u001b[1;32m   1646\u001b[0m         \u001b[0mkwargs\u001b[0m \u001b[0;34m=\u001b[0m \u001b[0mcbook\u001b[0m\u001b[0;34m.\u001b[0m\u001b[0mnormalize_kwargs\u001b[0m\u001b[0;34m(\u001b[0m\u001b[0mkwargs\u001b[0m\u001b[0;34m,\u001b[0m \u001b[0mmlines\u001b[0m\u001b[0;34m.\u001b[0m\u001b[0mLine2D\u001b[0m\u001b[0;34m)\u001b[0m\u001b[0;34m\u001b[0m\u001b[0;34m\u001b[0m\u001b[0m\n\u001b[0;32m-> 1647\u001b[0;31m         \u001b[0mlines\u001b[0m \u001b[0;34m=\u001b[0m \u001b[0;34m[\u001b[0m\u001b[0;34m*\u001b[0m\u001b[0mself\u001b[0m\u001b[0;34m.\u001b[0m\u001b[0m_get_lines\u001b[0m\u001b[0;34m(\u001b[0m\u001b[0;34m*\u001b[0m\u001b[0margs\u001b[0m\u001b[0;34m,\u001b[0m \u001b[0mdata\u001b[0m\u001b[0;34m=\u001b[0m\u001b[0mdata\u001b[0m\u001b[0;34m,\u001b[0m \u001b[0;34m**\u001b[0m\u001b[0mkwargs\u001b[0m\u001b[0;34m)\u001b[0m\u001b[0;34m]\u001b[0m\u001b[0;34m\u001b[0m\u001b[0;34m\u001b[0m\u001b[0m\n\u001b[0m\u001b[1;32m   1648\u001b[0m         \u001b[0;32mfor\u001b[0m \u001b[0mline\u001b[0m \u001b[0;32min\u001b[0m \u001b[0mlines\u001b[0m\u001b[0;34m:\u001b[0m\u001b[0;34m\u001b[0m\u001b[0;34m\u001b[0m\u001b[0m\n\u001b[1;32m   1649\u001b[0m             \u001b[0mself\u001b[0m\u001b[0;34m.\u001b[0m\u001b[0madd_line\u001b[0m\u001b[0;34m(\u001b[0m\u001b[0mline\u001b[0m\u001b[0;34m)\u001b[0m\u001b[0;34m\u001b[0m\u001b[0;34m\u001b[0m\u001b[0m\n",
            "\u001b[0;32m/usr/local/lib/python3.7/dist-packages/matplotlib/axes/_base.py\u001b[0m in \u001b[0;36m__call__\u001b[0;34m(self, *args, **kwargs)\u001b[0m\n\u001b[1;32m    214\u001b[0m                 \u001b[0mthis\u001b[0m \u001b[0;34m+=\u001b[0m \u001b[0margs\u001b[0m\u001b[0;34m[\u001b[0m\u001b[0;36m0\u001b[0m\u001b[0;34m]\u001b[0m\u001b[0;34m,\u001b[0m\u001b[0;34m\u001b[0m\u001b[0;34m\u001b[0m\u001b[0m\n\u001b[1;32m    215\u001b[0m                 \u001b[0margs\u001b[0m \u001b[0;34m=\u001b[0m \u001b[0margs\u001b[0m\u001b[0;34m[\u001b[0m\u001b[0;36m1\u001b[0m\u001b[0;34m:\u001b[0m\u001b[0;34m]\u001b[0m\u001b[0;34m\u001b[0m\u001b[0;34m\u001b[0m\u001b[0m\n\u001b[0;32m--> 216\u001b[0;31m             \u001b[0;32myield\u001b[0m \u001b[0;32mfrom\u001b[0m \u001b[0mself\u001b[0m\u001b[0;34m.\u001b[0m\u001b[0m_plot_args\u001b[0m\u001b[0;34m(\u001b[0m\u001b[0mthis\u001b[0m\u001b[0;34m,\u001b[0m \u001b[0mkwargs\u001b[0m\u001b[0;34m)\u001b[0m\u001b[0;34m\u001b[0m\u001b[0;34m\u001b[0m\u001b[0m\n\u001b[0m\u001b[1;32m    217\u001b[0m \u001b[0;34m\u001b[0m\u001b[0m\n\u001b[1;32m    218\u001b[0m     \u001b[0;32mdef\u001b[0m \u001b[0mget_next_color\u001b[0m\u001b[0;34m(\u001b[0m\u001b[0mself\u001b[0m\u001b[0;34m)\u001b[0m\u001b[0;34m:\u001b[0m\u001b[0;34m\u001b[0m\u001b[0;34m\u001b[0m\u001b[0m\n",
            "\u001b[0;32m/usr/local/lib/python3.7/dist-packages/matplotlib/axes/_base.py\u001b[0m in \u001b[0;36m_plot_args\u001b[0;34m(self, tup, kwargs)\u001b[0m\n\u001b[1;32m    340\u001b[0m \u001b[0;34m\u001b[0m\u001b[0m\n\u001b[1;32m    341\u001b[0m         \u001b[0;32mif\u001b[0m \u001b[0mx\u001b[0m\u001b[0;34m.\u001b[0m\u001b[0mshape\u001b[0m\u001b[0;34m[\u001b[0m\u001b[0;36m0\u001b[0m\u001b[0;34m]\u001b[0m \u001b[0;34m!=\u001b[0m \u001b[0my\u001b[0m\u001b[0;34m.\u001b[0m\u001b[0mshape\u001b[0m\u001b[0;34m[\u001b[0m\u001b[0;36m0\u001b[0m\u001b[0;34m]\u001b[0m\u001b[0;34m:\u001b[0m\u001b[0;34m\u001b[0m\u001b[0;34m\u001b[0m\u001b[0m\n\u001b[0;32m--> 342\u001b[0;31m             raise ValueError(f\"x and y must have same first dimension, but \"\n\u001b[0m\u001b[1;32m    343\u001b[0m                              f\"have shapes {x.shape} and {y.shape}\")\n\u001b[1;32m    344\u001b[0m         \u001b[0;32mif\u001b[0m \u001b[0mx\u001b[0m\u001b[0;34m.\u001b[0m\u001b[0mndim\u001b[0m \u001b[0;34m>\u001b[0m \u001b[0;36m2\u001b[0m \u001b[0;32mor\u001b[0m \u001b[0my\u001b[0m\u001b[0;34m.\u001b[0m\u001b[0mndim\u001b[0m \u001b[0;34m>\u001b[0m \u001b[0;36m2\u001b[0m\u001b[0;34m:\u001b[0m\u001b[0;34m\u001b[0m\u001b[0;34m\u001b[0m\u001b[0m\n",
            "\u001b[0;31mValueError\u001b[0m: x and y must have same first dimension, but have shapes (63,) and (89,)"
          ]
        },
        {
          "output_type": "display_data",
          "data": {
            "text/plain": [
              "<Figure size 432x288 with 1 Axes>"
            ],
            "image/png": "[encoded data removed]"
          },
          "metadata": {
            "needs_background": "light"
          }
        }
      ]
    },
    {
      "cell_type": "code",
      "source": [
        "max(return_list)"
      ],
      "metadata": {
        "colab": {
          "base_uri": "https://localhost:8080/"
        },
        "id": "51uLiKwzFMUn",
        "outputId": "b4764baf-9ba0-4424-cf13-afbae4d28c27"
      },
      "execution_count": null,
      "outputs": [
        {
          "output_type": "execute_result",
          "data": {
            "text/plain": [
              "-39924.29999999998"
            ]
          },
          "metadata": {},
          "execution_count": 77
        }
      ]
    },
    {
      "cell_type": "code",
      "source": [
        "len(inv_list)"
      ],
      "metadata": {
        "colab": {
          "base_uri": "https://localhost:8080/"
        },
        "id": "xPGPvDqhi92Q",
        "outputId": "a837af70-1d23-404a-ee89-1146cf34af43"
      },
      "execution_count": null,
      "outputs": [
        {
          "output_type": "execute_result",
          "data": {
            "text/plain": [
              "89"
            ]
          },
          "metadata": {},
          "execution_count": 78
        }
      ]
    },
    {
      "cell_type": "code",
      "source": [
        "penalty"
      ],
      "metadata": {
        "id": "RizXAfR6JftM",
        "colab": {
          "base_uri": "https://localhost:8080/"
        },
        "outputId": "1510bd43-507e-4428-fda1-842de407925b"
      },
      "execution_count": null,
      "outputs": [
        {
          "output_type": "execute_result",
          "data": {
            "text/plain": [
              "11110"
            ]
          },
          "metadata": {},
          "execution_count": 87
        }
      ]
    },
    {
      "cell_type": "code",
      "source": [
        ""
      ],
      "metadata": {
        "id": "DoNupI_Y79G4"
      },
      "execution_count": null,
      "outputs": []
    }
  ]
}